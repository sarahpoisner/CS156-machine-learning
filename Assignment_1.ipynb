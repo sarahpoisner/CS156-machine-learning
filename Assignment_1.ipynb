{
 "cells": [
  {
   "cell_type": "markdown",
   "metadata": {},
   "source": [
    "# Assignment 1"
   ]
  },
  {
   "cell_type": "markdown",
   "metadata": {},
   "source": [
    "## 1. Moore's Law\n",
    "*Use the scripts from here to download a large amount of data relating to CPU specs.*\n",
    "\n",
    "1. *Extract the date and base speed for a benchmark of your choice. Note that the dates contained as part of the testID don't tell us about when the hardware was actually designed, so the test could have been run at a much later date using older hardware. We therefore need the date indicating when the hardware was first available (hwAvail) from the summaries file to really test Moore's Law.*"
   ]
  },
  {
   "cell_type": "code",
   "execution_count": 1,
   "metadata": {
    "scrolled": false
   },
   "outputs": [],
   "source": [
    "import pandas as pd\n",
    "import matplotlib.pyplot as plt\n",
    "import numpy as np\n",
    "import datetime"
   ]
  },
  {
   "cell_type": "code",
   "execution_count": 2,
   "metadata": {
    "scrolled": false
   },
   "outputs": [
    {
     "data": {
      "text/html": [
       "<div>\n",
       "<style scoped>\n",
       "    .dataframe tbody tr th:only-of-type {\n",
       "        vertical-align: middle;\n",
       "    }\n",
       "\n",
       "    .dataframe tbody tr th {\n",
       "        vertical-align: top;\n",
       "    }\n",
       "\n",
       "    .dataframe thead th {\n",
       "        text-align: right;\n",
       "    }\n",
       "</style>\n",
       "<table border=\"1\" class=\"dataframe\">\n",
       "  <thead>\n",
       "    <tr style=\"text-align: right;\">\n",
       "      <th></th>\n",
       "      <th>testID</th>\n",
       "      <th>benchName</th>\n",
       "      <th>base</th>\n",
       "      <th>peak</th>\n",
       "      <th>testDate</th>\n",
       "    </tr>\n",
       "  </thead>\n",
       "  <tbody>\n",
       "    <tr>\n",
       "      <th>10008</th>\n",
       "      <td>cpu2000-19991130-00006</td>\n",
       "      <td>179.art</td>\n",
       "      <td>1238.0</td>\n",
       "      <td>1564</td>\n",
       "      <td>1999-11-30</td>\n",
       "    </tr>\n",
       "    <tr>\n",
       "      <th>10060</th>\n",
       "      <td>cpu2000-19991130-00010</td>\n",
       "      <td>179.art</td>\n",
       "      <td>759.0</td>\n",
       "      <td>900</td>\n",
       "      <td>1999-11-30</td>\n",
       "    </tr>\n",
       "    <tr>\n",
       "      <th>10086</th>\n",
       "      <td>cpu2000-19991130-00012</td>\n",
       "      <td>179.art</td>\n",
       "      <td>1245.0</td>\n",
       "      <td>1566</td>\n",
       "      <td>1999-11-30</td>\n",
       "    </tr>\n",
       "    <tr>\n",
       "      <th>10190</th>\n",
       "      <td>cpu2000-19991130-00020</td>\n",
       "      <td>179.art</td>\n",
       "      <td>800.0</td>\n",
       "      <td>769</td>\n",
       "      <td>1999-11-30</td>\n",
       "    </tr>\n",
       "    <tr>\n",
       "      <th>10268</th>\n",
       "      <td>cpu2000-19991130-00028</td>\n",
       "      <td>179.art</td>\n",
       "      <td>305.0</td>\n",
       "      <td>412</td>\n",
       "      <td>1999-11-30</td>\n",
       "    </tr>\n",
       "    <tr>\n",
       "      <th>...</th>\n",
       "      <td>...</td>\n",
       "      <td>...</td>\n",
       "      <td>...</td>\n",
       "      <td>...</td>\n",
       "      <td>...</td>\n",
       "    </tr>\n",
       "    <tr>\n",
       "      <th>45712</th>\n",
       "      <td>cpu2000-20070222-08642</td>\n",
       "      <td>179.art</td>\n",
       "      <td>7486.0</td>\n",
       "      <td>7451</td>\n",
       "      <td>2007-02-22</td>\n",
       "    </tr>\n",
       "    <tr>\n",
       "      <th>45766</th>\n",
       "      <td>cpu2000-20070222-08654</td>\n",
       "      <td>179.art</td>\n",
       "      <td>7379.0</td>\n",
       "      <td>7456</td>\n",
       "      <td>2007-02-22</td>\n",
       "    </tr>\n",
       "    <tr>\n",
       "      <th>45806</th>\n",
       "      <td>cpu2000-20070223-08665</td>\n",
       "      <td>179.art</td>\n",
       "      <td>7483.0</td>\n",
       "      <td>7459</td>\n",
       "      <td>2007-02-23</td>\n",
       "    </tr>\n",
       "    <tr>\n",
       "      <th>45780</th>\n",
       "      <td>cpu2000-20070223-08659</td>\n",
       "      <td>179.art</td>\n",
       "      <td>7522.0</td>\n",
       "      <td>7455</td>\n",
       "      <td>2007-02-23</td>\n",
       "    </tr>\n",
       "    <tr>\n",
       "      <th>45820</th>\n",
       "      <td>cpu2000-20070223-08669</td>\n",
       "      <td>179.art</td>\n",
       "      <td>7461.0</td>\n",
       "      <td>7542</td>\n",
       "      <td>2007-02-23</td>\n",
       "    </tr>\n",
       "  </tbody>\n",
       "</table>\n",
       "<p>1270 rows × 5 columns</p>\n",
       "</div>"
      ],
      "text/plain": [
       "                       testID benchName    base  peak   testDate\n",
       "10008  cpu2000-19991130-00006   179.art  1238.0  1564 1999-11-30\n",
       "10060  cpu2000-19991130-00010   179.art   759.0   900 1999-11-30\n",
       "10086  cpu2000-19991130-00012   179.art  1245.0  1566 1999-11-30\n",
       "10190  cpu2000-19991130-00020   179.art   800.0   769 1999-11-30\n",
       "10268  cpu2000-19991130-00028   179.art   305.0   412 1999-11-30\n",
       "...                       ...       ...     ...   ...        ...\n",
       "45712  cpu2000-20070222-08642   179.art  7486.0  7451 2007-02-22\n",
       "45766  cpu2000-20070222-08654   179.art  7379.0  7456 2007-02-22\n",
       "45806  cpu2000-20070223-08665   179.art  7483.0  7459 2007-02-23\n",
       "45780  cpu2000-20070223-08659   179.art  7522.0  7455 2007-02-23\n",
       "45820  cpu2000-20070223-08669   179.art  7461.0  7542 2007-02-23\n",
       "\n",
       "[1270 rows x 5 columns]"
      ]
     },
     "execution_count": 2,
     "metadata": {},
     "output_type": "execute_result"
    }
   ],
   "source": [
    "benchmarks = pd.read_csv('benchmarks.txt', low_memory=False)\n",
    "\n",
    "# extract date from testID\n",
    "date = benchmarks.testID.str.split('-').str[1]\n",
    "\n",
    "# convert test date to datetime\n",
    "newdate = [0 for i in range(len(date))]\n",
    "\n",
    "for i in range(len(date)):\n",
    "    d = str(date[i])\n",
    "    if len(d)==4: # some don't have dates\n",
    "        newdate[i] = float(\"NaN\")\n",
    "    elif(d=='nan'):\n",
    "        newdate[i] = float(\"NaN\")\n",
    "    elif len(d)==6: # some are missing the \"19\" in the 90s\n",
    "        d = '19'+ d\n",
    "        newdate[i] = datetime.datetime.strptime(d, \"%Y%m%d\")\n",
    "    else:\n",
    "        newdate[i] = datetime.datetime.strptime(d, \"%Y%m%d\")\n",
    "    \n",
    "\n",
    "df = benchmarks.copy() # create new df with dates\n",
    "df['testDate'] = newdate\n",
    "\n",
    "df = df[df['benchName']=='179.art'] # choose benchmark\n",
    "df = df.dropna() # drop null values\n",
    "df = df.sort_values(by=['testDate']) # sort by date\n",
    "\n",
    "df"
   ]
  },
  {
   "cell_type": "code",
   "execution_count": 3,
   "metadata": {},
   "outputs": [
    {
     "data": {
      "text/html": [
       "<div>\n",
       "<style scoped>\n",
       "    .dataframe tbody tr th:only-of-type {\n",
       "        vertical-align: middle;\n",
       "    }\n",
       "\n",
       "    .dataframe tbody tr th {\n",
       "        vertical-align: top;\n",
       "    }\n",
       "\n",
       "    .dataframe thead th {\n",
       "        text-align: right;\n",
       "    }\n",
       "</style>\n",
       "<table border=\"1\" class=\"dataframe\">\n",
       "  <thead>\n",
       "    <tr style=\"text-align: right;\">\n",
       "      <th></th>\n",
       "      <th>testID</th>\n",
       "      <th>benchName</th>\n",
       "      <th>base_x</th>\n",
       "      <th>peak_x</th>\n",
       "      <th>testDate</th>\n",
       "      <th>tester</th>\n",
       "      <th>machine</th>\n",
       "      <th>cpu</th>\n",
       "      <th>mhz</th>\n",
       "      <th>hwAvail</th>\n",
       "      <th>os</th>\n",
       "      <th>compiler</th>\n",
       "      <th>autoParallel</th>\n",
       "      <th>benchType</th>\n",
       "      <th>base_y</th>\n",
       "      <th>peak_y</th>\n",
       "    </tr>\n",
       "  </thead>\n",
       "  <tbody>\n",
       "    <tr>\n",
       "      <th>0</th>\n",
       "      <td>cpu2000-19991130-00006</td>\n",
       "      <td>179.art</td>\n",
       "      <td>1238.0</td>\n",
       "      <td>1564</td>\n",
       "      <td>1999-11-30</td>\n",
       "      <td>Compaq NH</td>\n",
       "      <td>AlphaServer ES40 Model 6/667</td>\n",
       "      <td>Alpha 21264A</td>\n",
       "      <td>667.0</td>\n",
       "      <td>2000-02-01</td>\n",
       "      <td>Tru64 UNIX V4.0F</td>\n",
       "      <td>Compaq C X6.2-259-449AT Compaq Fortran T5.3 (f...</td>\n",
       "      <td>No</td>\n",
       "      <td>CFP2000</td>\n",
       "      <td>500.0</td>\n",
       "      <td>562</td>\n",
       "    </tr>\n",
       "    <tr>\n",
       "      <th>1</th>\n",
       "      <td>cpu2000-19991130-00010</td>\n",
       "      <td>179.art</td>\n",
       "      <td>759.0</td>\n",
       "      <td>900</td>\n",
       "      <td>1999-11-30</td>\n",
       "      <td>Compaq NH</td>\n",
       "      <td>AlphaServer DS20 Model 6/500</td>\n",
       "      <td>Alpha 21264</td>\n",
       "      <td>500.0</td>\n",
       "      <td>1998-12-01</td>\n",
       "      <td>Tru64 UNIX V4.0F</td>\n",
       "      <td>Compaq C X6.2-259-449AT Compaq Fortran T5.3 (f...</td>\n",
       "      <td>No</td>\n",
       "      <td>CFP2000</td>\n",
       "      <td>383.0</td>\n",
       "      <td>422</td>\n",
       "    </tr>\n",
       "    <tr>\n",
       "      <th>2</th>\n",
       "      <td>cpu2000-19991130-00012</td>\n",
       "      <td>179.art</td>\n",
       "      <td>1245.0</td>\n",
       "      <td>1566</td>\n",
       "      <td>1999-11-30</td>\n",
       "      <td>Compaq NH</td>\n",
       "      <td>AlphaServer DS20E Model 6/667</td>\n",
       "      <td>Alpha 21264A</td>\n",
       "      <td>667.0</td>\n",
       "      <td>2000-03-01</td>\n",
       "      <td>Tru64 UNIX V4.0F</td>\n",
       "      <td>Compaq C X6.2-259-449AT Compaq Fortran T5.3 (f...</td>\n",
       "      <td>No</td>\n",
       "      <td>CFP2000</td>\n",
       "      <td>514.0</td>\n",
       "      <td>577</td>\n",
       "    </tr>\n",
       "    <tr>\n",
       "      <th>3</th>\n",
       "      <td>cpu2000-19991130-00020</td>\n",
       "      <td>179.art</td>\n",
       "      <td>800.0</td>\n",
       "      <td>769</td>\n",
       "      <td>1999-11-30</td>\n",
       "      <td>SGI</td>\n",
       "      <td>SGI 2200 2X 300MHz R12k</td>\n",
       "      <td>R12000</td>\n",
       "      <td>300.0</td>\n",
       "      <td>1999-04-01</td>\n",
       "      <td>IRIX 6.5.5f</td>\n",
       "      <td>MIPSpro 7.3 C, C++, Fortran90</td>\n",
       "      <td>No</td>\n",
       "      <td>CFP2000</td>\n",
       "      <td>269.0</td>\n",
       "      <td>283</td>\n",
       "    </tr>\n",
       "    <tr>\n",
       "      <th>4</th>\n",
       "      <td>cpu2000-19991130-00028</td>\n",
       "      <td>179.art</td>\n",
       "      <td>305.0</td>\n",
       "      <td>412</td>\n",
       "      <td>1999-11-30</td>\n",
       "      <td>Hewlett-Packard Company</td>\n",
       "      <td>HP 9000 Model N4000</td>\n",
       "      <td>440 MHz PA-RISC 8600</td>\n",
       "      <td>440.0</td>\n",
       "      <td>1999-11-01</td>\n",
       "      <td>HP-UX B.11.00</td>\n",
       "      <td>HP-UX f77 971027 (162928)  B.11.00.01</td>\n",
       "      <td>No</td>\n",
       "      <td>CFP2000</td>\n",
       "      <td>266.0</td>\n",
       "      <td>297</td>\n",
       "    </tr>\n",
       "    <tr>\n",
       "      <th>...</th>\n",
       "      <td>...</td>\n",
       "      <td>...</td>\n",
       "      <td>...</td>\n",
       "      <td>...</td>\n",
       "      <td>...</td>\n",
       "      <td>...</td>\n",
       "      <td>...</td>\n",
       "      <td>...</td>\n",
       "      <td>...</td>\n",
       "      <td>...</td>\n",
       "      <td>...</td>\n",
       "      <td>...</td>\n",
       "      <td>...</td>\n",
       "      <td>...</td>\n",
       "      <td>...</td>\n",
       "      <td>...</td>\n",
       "    </tr>\n",
       "    <tr>\n",
       "      <th>1265</th>\n",
       "      <td>cpu2000-20070222-08642</td>\n",
       "      <td>179.art</td>\n",
       "      <td>7486.0</td>\n",
       "      <td>7451</td>\n",
       "      <td>2007-02-22</td>\n",
       "      <td>Hewlett-Packard Company</td>\n",
       "      <td>ProLiant BL20p G4 (1.86 GHz, Intel Xeon proces...</td>\n",
       "      <td>Intel Xeon processor E5320 (1.86 GHz, 2x4 MB L...</td>\n",
       "      <td>1860.0</td>\n",
       "      <td>2007-01-01</td>\n",
       "      <td>SuSE Linux Enterprise Server 10 (x86_64) Kerne...</td>\n",
       "      <td>Intel C++ Compiler for EM64T-based application...</td>\n",
       "      <td>No</td>\n",
       "      <td>CFP2000</td>\n",
       "      <td>1909.0</td>\n",
       "      <td>2087</td>\n",
       "    </tr>\n",
       "    <tr>\n",
       "      <th>1266</th>\n",
       "      <td>cpu2000-20070222-08654</td>\n",
       "      <td>179.art</td>\n",
       "      <td>7379.0</td>\n",
       "      <td>7456</td>\n",
       "      <td>2007-02-22</td>\n",
       "      <td>Hewlett-Packard Company</td>\n",
       "      <td>ProLiant DL360 G5 (1.86 GHz, Intel Xeon proces...</td>\n",
       "      <td>Intel Xeon processor E5320 (1.86 GHz, 2x4 MB L...</td>\n",
       "      <td>1860.0</td>\n",
       "      <td>2007-01-01</td>\n",
       "      <td>SuSE Linux Enterprise Server 10 (x86_64) Kerne...</td>\n",
       "      <td>Intel C++ Compiler for EM64T-based application...</td>\n",
       "      <td>No</td>\n",
       "      <td>CFP2000</td>\n",
       "      <td>1906.0</td>\n",
       "      <td>2082</td>\n",
       "    </tr>\n",
       "    <tr>\n",
       "      <th>1267</th>\n",
       "      <td>cpu2000-20070223-08665</td>\n",
       "      <td>179.art</td>\n",
       "      <td>7483.0</td>\n",
       "      <td>7459</td>\n",
       "      <td>2007-02-23</td>\n",
       "      <td>Hewlett-Packard Company</td>\n",
       "      <td>ProLiant ML350 G5 (1.86 GHz, Intel Xeon proces...</td>\n",
       "      <td>Intel Xeon processor E5320 (1.86 GHz, 2x4 MB L...</td>\n",
       "      <td>1860.0</td>\n",
       "      <td>2006-11-01</td>\n",
       "      <td>SuSE Linux Enterprise Server 10 (x86_64) Kerne...</td>\n",
       "      <td>Intel C++ Compiler for EM64T-based application...</td>\n",
       "      <td>No</td>\n",
       "      <td>CFP2000</td>\n",
       "      <td>1901.0</td>\n",
       "      <td>2075</td>\n",
       "    </tr>\n",
       "    <tr>\n",
       "      <th>1268</th>\n",
       "      <td>cpu2000-20070223-08659</td>\n",
       "      <td>179.art</td>\n",
       "      <td>7522.0</td>\n",
       "      <td>7455</td>\n",
       "      <td>2007-02-23</td>\n",
       "      <td>Hewlett-Packard Company</td>\n",
       "      <td>ProLiant DL380 G5 (1.86 GHz, Intel Xeon proces...</td>\n",
       "      <td>Intel Xeon processor E5320 (1.86 GHz, 2x4 MB L...</td>\n",
       "      <td>1860.0</td>\n",
       "      <td>2006-11-01</td>\n",
       "      <td>SuSE Linux Enterprise Server 10 (x86_64) Kerne...</td>\n",
       "      <td>Intel C++ Compiler for EM64T-based application...</td>\n",
       "      <td>No</td>\n",
       "      <td>CFP2000</td>\n",
       "      <td>1902.0</td>\n",
       "      <td>2078</td>\n",
       "    </tr>\n",
       "    <tr>\n",
       "      <th>1269</th>\n",
       "      <td>cpu2000-20070223-08669</td>\n",
       "      <td>179.art</td>\n",
       "      <td>7461.0</td>\n",
       "      <td>7542</td>\n",
       "      <td>2007-02-23</td>\n",
       "      <td>Hewlett-Packard Company</td>\n",
       "      <td>ProLiant BL480c (1.86 GHz, Intel Xeon processo...</td>\n",
       "      <td>Intel Xeon processor E5320 (1.86 GHz, 2x4 MB L...</td>\n",
       "      <td>1860.0</td>\n",
       "      <td>2007-01-01</td>\n",
       "      <td>SuSE Linux Enterprise Server 10 (x86_64) Kerne...</td>\n",
       "      <td>Intel C++ Compiler for EM64T-based application...</td>\n",
       "      <td>No</td>\n",
       "      <td>CFP2000</td>\n",
       "      <td>1908.0</td>\n",
       "      <td>2084</td>\n",
       "    </tr>\n",
       "  </tbody>\n",
       "</table>\n",
       "<p>1270 rows × 16 columns</p>\n",
       "</div>"
      ],
      "text/plain": [
       "                      testID benchName  base_x peak_x   testDate  \\\n",
       "0     cpu2000-19991130-00006   179.art  1238.0   1564 1999-11-30   \n",
       "1     cpu2000-19991130-00010   179.art   759.0    900 1999-11-30   \n",
       "2     cpu2000-19991130-00012   179.art  1245.0   1566 1999-11-30   \n",
       "3     cpu2000-19991130-00020   179.art   800.0    769 1999-11-30   \n",
       "4     cpu2000-19991130-00028   179.art   305.0    412 1999-11-30   \n",
       "...                      ...       ...     ...    ...        ...   \n",
       "1265  cpu2000-20070222-08642   179.art  7486.0   7451 2007-02-22   \n",
       "1266  cpu2000-20070222-08654   179.art  7379.0   7456 2007-02-22   \n",
       "1267  cpu2000-20070223-08665   179.art  7483.0   7459 2007-02-23   \n",
       "1268  cpu2000-20070223-08659   179.art  7522.0   7455 2007-02-23   \n",
       "1269  cpu2000-20070223-08669   179.art  7461.0   7542 2007-02-23   \n",
       "\n",
       "                       tester  \\\n",
       "0                   Compaq NH   \n",
       "1                   Compaq NH   \n",
       "2                   Compaq NH   \n",
       "3                         SGI   \n",
       "4     Hewlett-Packard Company   \n",
       "...                       ...   \n",
       "1265  Hewlett-Packard Company   \n",
       "1266  Hewlett-Packard Company   \n",
       "1267  Hewlett-Packard Company   \n",
       "1268  Hewlett-Packard Company   \n",
       "1269  Hewlett-Packard Company   \n",
       "\n",
       "                                                machine  \\\n",
       "0                          AlphaServer ES40 Model 6/667   \n",
       "1                          AlphaServer DS20 Model 6/500   \n",
       "2                         AlphaServer DS20E Model 6/667   \n",
       "3                               SGI 2200 2X 300MHz R12k   \n",
       "4                                   HP 9000 Model N4000   \n",
       "...                                                 ...   \n",
       "1265  ProLiant BL20p G4 (1.86 GHz, Intel Xeon proces...   \n",
       "1266  ProLiant DL360 G5 (1.86 GHz, Intel Xeon proces...   \n",
       "1267  ProLiant ML350 G5 (1.86 GHz, Intel Xeon proces...   \n",
       "1268  ProLiant DL380 G5 (1.86 GHz, Intel Xeon proces...   \n",
       "1269  ProLiant BL480c (1.86 GHz, Intel Xeon processo...   \n",
       "\n",
       "                                                    cpu     mhz    hwAvail  \\\n",
       "0                                          Alpha 21264A   667.0 2000-02-01   \n",
       "1                                           Alpha 21264   500.0 1998-12-01   \n",
       "2                                          Alpha 21264A   667.0 2000-03-01   \n",
       "3                                                R12000   300.0 1999-04-01   \n",
       "4                                  440 MHz PA-RISC 8600   440.0 1999-11-01   \n",
       "...                                                 ...     ...        ...   \n",
       "1265  Intel Xeon processor E5320 (1.86 GHz, 2x4 MB L...  1860.0 2007-01-01   \n",
       "1266  Intel Xeon processor E5320 (1.86 GHz, 2x4 MB L...  1860.0 2007-01-01   \n",
       "1267  Intel Xeon processor E5320 (1.86 GHz, 2x4 MB L...  1860.0 2006-11-01   \n",
       "1268  Intel Xeon processor E5320 (1.86 GHz, 2x4 MB L...  1860.0 2006-11-01   \n",
       "1269  Intel Xeon processor E5320 (1.86 GHz, 2x4 MB L...  1860.0 2007-01-01   \n",
       "\n",
       "                                                     os  \\\n",
       "0                                      Tru64 UNIX V4.0F   \n",
       "1                                      Tru64 UNIX V4.0F   \n",
       "2                                      Tru64 UNIX V4.0F   \n",
       "3                                           IRIX 6.5.5f   \n",
       "4                                         HP-UX B.11.00   \n",
       "...                                                 ...   \n",
       "1265  SuSE Linux Enterprise Server 10 (x86_64) Kerne...   \n",
       "1266  SuSE Linux Enterprise Server 10 (x86_64) Kerne...   \n",
       "1267  SuSE Linux Enterprise Server 10 (x86_64) Kerne...   \n",
       "1268  SuSE Linux Enterprise Server 10 (x86_64) Kerne...   \n",
       "1269  SuSE Linux Enterprise Server 10 (x86_64) Kerne...   \n",
       "\n",
       "                                               compiler autoParallel  \\\n",
       "0     Compaq C X6.2-259-449AT Compaq Fortran T5.3 (f...           No   \n",
       "1     Compaq C X6.2-259-449AT Compaq Fortran T5.3 (f...           No   \n",
       "2     Compaq C X6.2-259-449AT Compaq Fortran T5.3 (f...           No   \n",
       "3                         MIPSpro 7.3 C, C++, Fortran90           No   \n",
       "4                 HP-UX f77 971027 (162928)  B.11.00.01           No   \n",
       "...                                                 ...          ...   \n",
       "1265  Intel C++ Compiler for EM64T-based application...           No   \n",
       "1266  Intel C++ Compiler for EM64T-based application...           No   \n",
       "1267  Intel C++ Compiler for EM64T-based application...           No   \n",
       "1268  Intel C++ Compiler for EM64T-based application...           No   \n",
       "1269  Intel C++ Compiler for EM64T-based application...           No   \n",
       "\n",
       "     benchType  base_y peak_y  \n",
       "0      CFP2000   500.0    562  \n",
       "1      CFP2000   383.0    422  \n",
       "2      CFP2000   514.0    577  \n",
       "3      CFP2000   269.0    283  \n",
       "4      CFP2000   266.0    297  \n",
       "...        ...     ...    ...  \n",
       "1265   CFP2000  1909.0   2087  \n",
       "1266   CFP2000  1906.0   2082  \n",
       "1267   CFP2000  1901.0   2075  \n",
       "1268   CFP2000  1902.0   2078  \n",
       "1269   CFP2000  1908.0   2084  \n",
       "\n",
       "[1270 rows x 16 columns]"
      ]
     },
     "execution_count": 3,
     "metadata": {},
     "output_type": "execute_result"
    }
   ],
   "source": [
    "summaries = pd.read_csv('summaries.txt', encoding = 'unicode-escape')\n",
    "\n",
    "# convert date when hardware was available (hwAvail) to datetime\n",
    "summaries['hwAvail'] = pd.to_datetime(summaries['hwAvail'])\n",
    "\n",
    "# merge summaries to benchmark dataframe\n",
    "df2 = pd.merge(df, summaries, on=\"testID\")\n",
    "\n",
    "df2"
   ]
  },
  {
   "cell_type": "markdown",
   "metadata": {},
   "source": [
    "2. *Plot the data in a semi-log plot.*"
   ]
  },
  {
   "cell_type": "code",
   "execution_count": 4,
   "metadata": {},
   "outputs": [
    {
     "data": {
      "image/png": "[encoded data removed]",
      "text/plain": [
       "<Figure size 576x432 with 1 Axes>"
      ]
     },
     "metadata": {
      "needs_background": "light"
     },
     "output_type": "display_data"
    }
   ],
   "source": [
    "# semi-log plot (linear x-axis, log y-axis)\n",
    "plt.figure(figsize=(8,6))\n",
    "plt.plot(df2['hwAvail'], np.log(df2['base_x']), 'o', \n",
    "         color='thistle', label='179.art', alpha=0.5)\n",
    "\n",
    "plt.title('Semi-Log Plot of Base SPEC Benchmark Results Over Time')\n",
    "plt.xlabel('Date Hardware Available')\n",
    "plt.ylabel('Log Base SPEC Benchmark Result')\n",
    "\n",
    "plt.legend(loc=2)\n",
    "plt.show()"
   ]
  },
  {
   "cell_type": "markdown",
   "metadata": {},
   "source": [
    "3. *Now train a linear model to fit your plot.*"
   ]
  },
  {
   "cell_type": "code",
   "execution_count": 5,
   "metadata": {},
   "outputs": [
    {
     "name": "stdout",
     "output_type": "stream",
     "text": [
      "Intercept: -2303499.7132550175\n",
      "Coefficient: [3.15383274]\n"
     ]
    }
   ],
   "source": [
    "from sklearn.linear_model import LinearRegression\n",
    "\n",
    "# change dates to ordinal for calculations\n",
    "X = df2['hwAvail']\n",
    "X = X.map(datetime.datetime.toordinal)\n",
    "X = np.array(X.values)\n",
    "X = X.reshape(-1,1)\n",
    "\n",
    "y = df2['base_x']\n",
    "\n",
    "# split into train and test data\n",
    "from sklearn.model_selection import train_test_split\n",
    "X_train, X_test, y_train, y_test = \\\n",
    "train_test_split(X, y, test_size=0.4, random_state=0)\n",
    "\n",
    "# apply linear regression model\n",
    "model = LinearRegression()\n",
    "model.fit(X_train, y_train)\n",
    "\n",
    "# get predicted results from testing set\n",
    "y_pred = model.predict(X_test)\n",
    "\n",
    "print(f'Intercept: {model.intercept_}')\n",
    "print(f'Coefficient: {model.coef_}')"
   ]
  },
  {
   "cell_type": "code",
   "execution_count": 6,
   "metadata": {},
   "outputs": [
    {
     "name": "stdout",
     "output_type": "stream",
     "text": [
      "MSE: 9459218.63\n",
      "MAS: 2374.98\n",
      "Median Absolute Error: 1985.32\n",
      "R^2: 0.243\n"
     ]
    }
   ],
   "source": [
    "from sklearn.metrics import mean_squared_error, r2_score, mean_absolute_error, median_absolute_error\n",
    "\n",
    "# calculate metrics\n",
    "MSE = np.round(mean_squared_error(y_test, y_pred),2)\n",
    "MAS = np.round(mean_absolute_error(y_test, y_pred),2)\n",
    "MAE = np.round(median_absolute_error(y_test, y_pred),2)\n",
    "R_2 = np.round(r2_score(y_test, y_pred),3)\n",
    "\n",
    "print(f'MSE: {MSE}')\n",
    "print(f'MAS: {MAS}')\n",
    "print(f'Median Absolute Error: {MAE}')\n",
    "print(f'R^2: {R_2}')"
   ]
  },
  {
   "cell_type": "code",
   "execution_count": 7,
   "metadata": {},
   "outputs": [
    {
     "data": {
      "image/png": "[encoded data removed]",
      "text/plain": [
       "<Figure size 576x432 with 1 Axes>"
      ]
     },
     "metadata": {
      "needs_background": "light"
     },
     "output_type": "display_data"
    }
   ],
   "source": [
    "plt.figure(figsize=(8,6))\n",
    "\n",
    "# original plot (linear x-axis, log y-axis)\n",
    "plt.plot(df2['hwAvail'], df2['base_x'], 'o', \n",
    "         color='pink', label='179.art (real)', alpha=0.5)\n",
    "\n",
    "# predicted plot (linear x-axis, log y-axis)\n",
    "plt.plot(X_test, y_pred, 'o', \n",
    "         color='teal', label='predicted (linear regression)', \n",
    "         alpha=0.5)\n",
    "\n",
    "plt.title('Plot of Base SPEC Benchmark Results Over Time')\n",
    "plt.xlabel('Date Hardware Available')\n",
    "plt.ylabel('Base SPEC Benchmark Result')\n",
    "\n",
    "plt.legend(loc=2)\n",
    "plt.show()"
   ]
  },
  {
   "cell_type": "markdown",
   "metadata": {},
   "source": [
    "4. *How well is Moore's Law holding up?*"
   ]
  },
  {
   "cell_type": "markdown",
   "metadata": {},
   "source": [
    "Moore's Law states that the score should double every two years, which loosely aligns with the data seen in the graph above for the art.179 benchmark between 1999 and 2007. The linear regression model predicted a slight upward trend ($R^2 = 0.243$), and the base score *approximately* doubled every two years. Additionally, the error values were somewhat high, possibly due to the various outliers seen above the regression line.\n",
    "\n",
    "**Year : Approx. Base Score**\n",
    "\n",
    "1999 : 100s\n",
    "\n",
    "2001 : 100s\n",
    "\n",
    "2003 : ~2500\n",
    "\n",
    "2005 : ~5000\n",
    "\n",
    "2007 : ~7500"
   ]
  },
  {
   "cell_type": "markdown",
   "metadata": {},
   "source": [
    "## 2. MNIST Digits\n",
    "1. *Using scikit-learn, load the MNIST digits.*"
   ]
  },
  {
   "cell_type": "code",
   "execution_count": 8,
   "metadata": {},
   "outputs": [
    {
     "name": "stdout",
     "output_type": "stream",
     "text": [
      "(1797, 64)\n"
     ]
    }
   ],
   "source": [
    "from sklearn.datasets import load_digits\n",
    "digits = load_digits()\n",
    "print(digits.data.shape)"
   ]
  },
  {
   "cell_type": "markdown",
   "metadata": {},
   "source": [
    "2. *Plot some of the examples.*"
   ]
  },
  {
   "cell_type": "code",
   "execution_count": 9,
   "metadata": {},
   "outputs": [
    {
     "data": {
      "image/png": "[encoded data removed]",
      "text/plain": [
       "<Figure size 1080x360 with 10 Axes>"
      ]
     },
     "metadata": {
      "needs_background": "light"
     },
     "output_type": "display_data"
    }
   ],
   "source": [
    "# plot numbers 0-9\n",
    "_, axes = plt.subplots(nrows=1, ncols=10, figsize=(15, 5))\n",
    "for ax, image, label in zip(axes, digits.images, digits.target):\n",
    "    ax.set_axis_off()\n",
    "    ax.imshow(image, cmap=plt.cm.RdPu, interpolation='nearest')\n",
    "    ax.set_title('Training: %i' % label)"
   ]
  },
  {
   "cell_type": "markdown",
   "metadata": {},
   "source": [
    "3. *Choose two digit classes (e.g. 7s and 3s), and train a k-nearest neighbor classifier.*"
   ]
  },
  {
   "cell_type": "code",
   "execution_count": 10,
   "metadata": {},
   "outputs": [
    {
     "name": "stdout",
     "output_type": "stream",
     "text": [
      "              precision    recall  f1-score   support\n",
      "\n",
      "           1       1.00      1.00      1.00        80\n",
      "           7       1.00      1.00      1.00       101\n",
      "\n",
      "    accuracy                           1.00       181\n",
      "   macro avg       1.00      1.00      1.00       181\n",
      "weighted avg       1.00      1.00      1.00       181\n",
      "\n"
     ]
    }
   ],
   "source": [
    "from sklearn.neighbors import KNeighborsClassifier\n",
    "from sklearn.metrics import classification_report, plot_confusion_matrix, accuracy_score\n",
    "\n",
    "# define data\n",
    "X = digits.data[np.logical_or(digits.target == 1, \n",
    "                              digits.target ==7)]\n",
    "y = digits.target[np.logical_or(digits.target == 1, \n",
    "                                digits.target ==7)]\n",
    "\n",
    "\n",
    "# split into train and test data\n",
    "X_train, X_test, y_train, y_test = \\\n",
    "train_test_split(X, y, test_size=0.5, random_state=0)\n",
    "\n",
    "# apply k-nearest-neighbors classification model\n",
    "model = KNeighborsClassifier(n_neighbors=2)\n",
    "model.fit(X_train, y_train)\n",
    "\n",
    "# get predicted results\n",
    "y_pred = model.predict(X_test)\n",
    "\n",
    "print(classification_report(y_test, y_pred))"
   ]
  },
  {
   "cell_type": "code",
   "execution_count": 11,
   "metadata": {
    "scrolled": true
   },
   "outputs": [
    {
     "data": {
      "image/png": "[encoded data removed]",
      "text/plain": [
       "<Figure size 1080x360 with 8 Axes>"
      ]
     },
     "metadata": {
      "needs_background": "light"
     },
     "output_type": "display_data"
    }
   ],
   "source": [
    "# plot samples of predictions for numbers 1 & 7\n",
    "_, axes = plt.subplots(nrows=1, ncols=8, figsize=(15, 5))\n",
    "for ax, image, label in zip(axes, X_test, y_pred):\n",
    "    image = image.reshape(8, 8)\n",
    "    ax.set_axis_off()\n",
    "    ax.imshow(image, cmap=plt.cm.RdPu, interpolation='nearest')\n",
    "    ax.set_title('Predicted: %i' % label)"
   ]
  },
  {
   "cell_type": "markdown",
   "metadata": {},
   "source": [
    "*Report your error rates on a held out part of the data.*"
   ]
  },
  {
   "cell_type": "code",
   "execution_count": 12,
   "metadata": {},
   "outputs": [
    {
     "name": "stdout",
     "output_type": "stream",
     "text": [
      "Error Rate: 0.0\n"
     ]
    }
   ],
   "source": [
    "# calculate error rate\n",
    "accuracy_rate = accuracy_score(y_test, y_pred, normalize = True)\n",
    "error_rate = np.round(1 - accuracy_rate, 3)\n",
    "print(f'Error Rate: {error_rate}')"
   ]
  },
  {
   "cell_type": "code",
   "execution_count": 13,
   "metadata": {},
   "outputs": [
    {
     "data": {
      "text/plain": [
       "<Figure size 432x288 with 0 Axes>"
      ]
     },
     "metadata": {},
     "output_type": "display_data"
    },
    {
     "data": {
      "image/png": "[encoded data removed]",
      "text/plain": [
       "<Figure size 432x288 with 2 Axes>"
      ]
     },
     "metadata": {
      "needs_background": "light"
     },
     "output_type": "display_data"
    },
    {
     "data": {
      "text/plain": [
       "<Figure size 432x288 with 0 Axes>"
      ]
     },
     "metadata": {},
     "output_type": "display_data"
    },
    {
     "data": {
      "image/png": "[encoded data removed]",
      "text/plain": [
       "<Figure size 432x288 with 2 Axes>"
      ]
     },
     "metadata": {
      "needs_background": "light"
     },
     "output_type": "display_data"
    }
   ],
   "source": [
    "# plot confustion matrices\n",
    "\n",
    "# test data\n",
    "plt.figure()\n",
    "plot_confusion_matrix(model, X_test, y_test, cmap=plt.cm.pink)\n",
    "plt.title('Confusion Matrix (Test)')\n",
    "plt.show()\n",
    "\n",
    "# train data\n",
    "plt.figure()\n",
    "plot_confusion_matrix(model, X_train, y_train, cmap=plt.cm.bone)\n",
    "plt.title('Confusion Matrix (Train)')\n",
    "plt.show()"
   ]
  },
  {
   "cell_type": "markdown",
   "metadata": {},
   "source": [
    "### (optional) \n",
    "*Test your model on the full dataset.*"
   ]
  },
  {
   "cell_type": "code",
   "execution_count": 14,
   "metadata": {},
   "outputs": [
    {
     "name": "stdout",
     "output_type": "stream",
     "text": [
      "              precision    recall  f1-score   support\n",
      "\n",
      "           0       1.00      1.00      1.00        89\n",
      "           1       0.92      1.00      0.96        90\n",
      "           2       0.99      0.99      0.99        92\n",
      "           3       0.94      0.99      0.96        93\n",
      "           4       0.99      0.97      0.98        76\n",
      "           5       0.96      0.96      0.96       108\n",
      "           6       0.99      1.00      0.99        89\n",
      "           7       1.00      1.00      1.00        78\n",
      "           8       1.00      0.91      0.95        92\n",
      "           9       0.99      0.93      0.96        92\n",
      "\n",
      "    accuracy                           0.98       899\n",
      "   macro avg       0.98      0.98      0.98       899\n",
      "weighted avg       0.98      0.98      0.98       899\n",
      "\n"
     ]
    }
   ],
   "source": [
    "from sklearn.neighbors import KNeighborsClassifier\n",
    "from sklearn.metrics import classification_report, plot_confusion_matrix, accuracy_score\n",
    "\n",
    "# define data\n",
    "X = digits.data\n",
    "y = digits.target\n",
    "\n",
    "# split into train and test data\n",
    "X_train, X_test, y_train, y_test = \\\n",
    "train_test_split(X, y, test_size=0.5, random_state=0)\n",
    "\n",
    "# apply k-nearest-neighbors classification model\n",
    "model = KNeighborsClassifier(n_neighbors=2)\n",
    "model.fit(X_train, y_train)\n",
    "\n",
    "# get predicted results\n",
    "y_pred = model.predict(X_test)\n",
    "\n",
    "print(classification_report(y_test, y_pred))"
   ]
  },
  {
   "cell_type": "code",
   "execution_count": 15,
   "metadata": {},
   "outputs": [
    {
     "data": {
      "image/png": "[encoded data removed]",
      "text/plain": [
       "<Figure size 1080x360 with 10 Axes>"
      ]
     },
     "metadata": {
      "needs_background": "light"
     },
     "output_type": "display_data"
    }
   ],
   "source": [
    "# plot samples of predictions for all numbers\n",
    "_, axes = plt.subplots(nrows=1, ncols=10, figsize=(15, 5))\n",
    "for ax, image, label in zip(axes, X_test, y_pred):\n",
    "    image = image.reshape(8, 8)\n",
    "    ax.set_axis_off()\n",
    "    ax.imshow(image, cmap=plt.cm.RdPu, interpolation='nearest')\n",
    "    ax.set_title('Predicted: %i' % label)"
   ]
  },
  {
   "cell_type": "code",
   "execution_count": 16,
   "metadata": {},
   "outputs": [
    {
     "name": "stdout",
     "output_type": "stream",
     "text": [
      "Error Rate: 0.024\n"
     ]
    }
   ],
   "source": [
    "# calculate error rate\n",
    "accuracy_rate = accuracy_score(y_test, y_pred, normalize = True)\n",
    "error_rate = np.round(1 - accuracy_rate, 3)\n",
    "print(f'Error Rate: {error_rate}')"
   ]
  },
  {
   "cell_type": "code",
   "execution_count": 17,
   "metadata": {},
   "outputs": [
    {
     "data": {
      "text/plain": [
       "<Figure size 432x288 with 0 Axes>"
      ]
     },
     "metadata": {},
     "output_type": "display_data"
    },
    {
     "data": {
      "image/png": "[encoded data removed]",
      "text/plain": [
       "<Figure size 432x288 with 2 Axes>"
      ]
     },
     "metadata": {
      "needs_background": "light"
     },
     "output_type": "display_data"
    },
    {
     "data": {
      "text/plain": [
       "<Figure size 432x288 with 0 Axes>"
      ]
     },
     "metadata": {},
     "output_type": "display_data"
    },
    {
     "data": {
      "image/png": "[encoded data removed]",
      "text/plain": [
       "<Figure size 432x288 with 2 Axes>"
      ]
     },
     "metadata": {
      "needs_background": "light"
     },
     "output_type": "display_data"
    }
   ],
   "source": [
    "# plot confustion matrices\n",
    "\n",
    "# test data\n",
    "plt.figure()\n",
    "plot_confusion_matrix(model, X_test, y_test, cmap=plt.cm.pink)\n",
    "plt.title('Confusion Matrix (Test)')\n",
    "plt.show()\n",
    "\n",
    "# train data\n",
    "plt.figure()\n",
    "plot_confusion_matrix(model, X_train, y_train, cmap=plt.cm.bone)\n",
    "plt.title('Confusion Matrix (Train)')\n",
    "plt.show()"
   ]
  },
  {
   "cell_type": "code",
   "execution_count": null,
   "metadata": {},
   "outputs": [],
   "source": []
  }
 ],
 "metadata": {
  "kernelspec": {
   "display_name": "Python 3",
   "language": "python",
   "name": "python3"
  },
  "language_info": {
   "codemirror_mode": {
    "name": "ipython",
    "version": 3
   },
   "file_extension": ".py",
   "mimetype": "text/x-python",
   "name": "python",
   "nbconvert_exporter": "python",
   "pygments_lexer": "ipython3",
   "version": "3.7.6"
  }
 },
 "nbformat": 4,
 "nbformat_minor": 2
}
