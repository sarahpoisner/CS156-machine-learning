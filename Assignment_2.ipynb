{
 "cells": [
  {
   "cell_type": "markdown",
   "metadata": {},
   "source": [
    "# Code Appendix\n",
    "\n",
    "## Importing Data"
   ]
  },
  {
   "cell_type": "code",
   "execution_count": 1,
   "metadata": {},
   "outputs": [],
   "source": [
    "import pandas as pd\n",
    "import matplotlib.pyplot as plt\n",
    "import seaborn as sns\n",
    "import numpy as np\n",
    "import csv\n",
    "import datetime"
   ]
  },
  {
   "cell_type": "code",
   "execution_count": 2,
   "metadata": {},
   "outputs": [
    {
     "name": "stderr",
     "output_type": "stream",
     "text": [
      "/Users/sarahpoisner/opt/anaconda3/lib/python3.7/site-packages/IPython/core/interactiveshell.py:3063: DtypeWarning: Columns (0,19,49,59,118,129,130,131,134,135,136,139,145,146,147) have mixed types.Specify dtype option on import or set low_memory=False.\n",
      "  interactivity=interactivity, compiler=compiler, result=result)\n"
     ]
    }
   ],
   "source": [
    "# import raw dataset with millions of rows\n",
    "accepted_data_full = pd.read_csv('accepted_full.csv.gz', \n",
    "                   compression='gzip', low_memory=True)\n",
    "rejected_data_full = pd.read_csv('rejected_full.csv.gz', \n",
    "                   compression='gzip', low_memory=True)"
   ]
  },
  {
   "cell_type": "code",
   "execution_count": 3,
   "metadata": {
    "scrolled": false
   },
   "outputs": [
    {
     "name": "stdout",
     "output_type": "stream",
     "text": [
      "Accepted Dataset Info\n",
      "---------------------\n",
      "<class 'pandas.core.frame.DataFrame'>\n",
      "RangeIndex: 2260701 entries, 0 to 2260700\n",
      "Columns: 151 entries, id to settlement_term\n",
      "dtypes: float64(113), object(38)\n",
      "memory usage: 2.5+ GB\n",
      "\n",
      "Rejected Dataset Info\n",
      "---------------------\n",
      "<class 'pandas.core.frame.DataFrame'>\n",
      "RangeIndex: 27648741 entries, 0 to 27648740\n",
      "Data columns (total 9 columns):\n",
      " #   Column                Dtype  \n",
      "---  ------                -----  \n",
      " 0   Amount Requested      float64\n",
      " 1   Application Date      object \n",
      " 2   Loan Title            object \n",
      " 3   Risk_Score            float64\n",
      " 4   Debt-To-Income Ratio  object \n",
      " 5   Zip Code              object \n",
      " 6   State                 object \n",
      " 7   Employment Length     object \n",
      " 8   Policy Code           float64\n",
      "dtypes: float64(3), object(6)\n",
      "memory usage: 1.9+ GB\n"
     ]
    }
   ],
   "source": [
    "print('Accepted Dataset Info')\n",
    "print('---------------------')\n",
    "accepted_data_full.info()\n",
    "print('\\nRejected Dataset Info')\n",
    "print('---------------------')\n",
    "rejected_data_full.info()"
   ]
  },
  {
   "cell_type": "markdown",
   "metadata": {},
   "source": [
    "### Calculate Risk Scores\n",
    "Check to see if FICO and Vantage risk score systems vary widely."
   ]
  },
  {
   "cell_type": "code",
   "execution_count": 4,
   "metadata": {},
   "outputs": [
    {
     "name": "stdout",
     "output_type": "stream",
     "text": [
      "% with FICO: 5.070896356546578%\n",
      "% with Vantage: 94.91591316942785%\n"
     ]
    }
   ],
   "source": [
    "# check if risk score varies between FICO and Vantage\n",
    "mask = rejected_data_full[rejected_data_full['Application Date'] \\\n",
    "                          < '2013-11-05']\n",
    "mask2 = rejected_data_full[rejected_data_full['Application Date'] \\\n",
    "                           > '2013-11-05']\n",
    "print(f'% with FICO: {100*(len(mask)/len(rejected_data_full))}%')\n",
    "print(f'% with Vantage: {100*(len(mask2)/len(rejected_data_full))}%')"
   ]
  },
  {
   "cell_type": "code",
   "execution_count": 6,
   "metadata": {},
   "outputs": [
    {
     "data": {
      "image/png": "[encoded data removed]",
      "text/plain": [
       "<Figure size 576x432 with 1 Axes>"
      ]
     },
     "metadata": {
      "needs_background": "light"
     },
     "output_type": "display_data"
    }
   ],
   "source": [
    "# plot distribution of risk scores\n",
    "plt.figure(figsize=(8,6))\n",
    "plt.hist(mask['Risk_Score'], bins=30, \n",
    "         color='lightsteelblue', label='FICO', alpha=0.5)\n",
    "plt.hist(mask2['Risk_Score'], bins=30, \n",
    "         color='seagreen', label='Vantage', alpha=0.2)\n",
    "plt.title('Distribution of Risk Scores') \n",
    "plt.xlabel('Risk Score')\n",
    "plt.ylabel('Frequency')\n",
    "plt.legend()\n",
    "plt.show()"
   ]
  },
  {
   "cell_type": "markdown",
   "metadata": {},
   "source": [
    "Average the low and high FICO scores at loan origination to get the risk score for accepted loans."
   ]
  },
  {
   "cell_type": "code",
   "execution_count": 7,
   "metadata": {},
   "outputs": [],
   "source": [
    "low = accepted_data_full['fico_range_low']\n",
    "high = accepted_data_full['fico_range_high']\n",
    "accepted_data_full['risk_score'] = (low+high)/2"
   ]
  },
  {
   "cell_type": "markdown",
   "metadata": {},
   "source": [
    "### Combine Datasets\n",
    "I only kept columns that applied to both the 'accepted' and 'rejected' datasets, created binary variables for loan_accepted, and combined the two datasets."
   ]
  },
  {
   "cell_type": "code",
   "execution_count": 9,
   "metadata": {},
   "outputs": [],
   "source": [
    "accepted_data = accepted_data_full[['loan_amnt', \n",
    "                                    'title', 'dti', 'zip_code', \n",
    "                                    'emp_length', \n",
    "                                    'policy_code', 'risk_score']]\n",
    "rejected_data = rejected_data_full[['Amount Requested', \n",
    "                                    'Loan Title', 'Debt-To-Income Ratio', \n",
    "                                    'Zip Code', 'Employment Length', \n",
    "                                    'Policy Code', 'Risk_Score']]"
   ]
  },
  {
   "cell_type": "code",
   "execution_count": 10,
   "metadata": {},
   "outputs": [],
   "source": [
    "# assign binary classifications\n",
    "accepted = np.ones((len(accepted_data), 1)) # accepted = 1\n",
    "rejected = np.zeros((len(rejected_data), 1)) # rejected = 0\n",
    "\n",
    "# append binary classifications to images\n",
    "accepted_data_1 = np.append(accepted_data, accepted, axis=1)\n",
    "rejected_data_0 = np.append(rejected_data, rejected, axis=1)"
   ]
  },
  {
   "cell_type": "code",
   "execution_count": 12,
   "metadata": {},
   "outputs": [
    {
     "data": {
      "text/html": [
       "<div>\n",
       "<style scoped>\n",
       "    .dataframe tbody tr th:only-of-type {\n",
       "        vertical-align: middle;\n",
       "    }\n",
       "\n",
       "    .dataframe tbody tr th {\n",
       "        vertical-align: top;\n",
       "    }\n",
       "\n",
       "    .dataframe thead th {\n",
       "        text-align: right;\n",
       "    }\n",
       "</style>\n",
       "<table border=\"1\" class=\"dataframe\">\n",
       "  <thead>\n",
       "    <tr style=\"text-align: right;\">\n",
       "      <th></th>\n",
       "      <th>loan_amnt</th>\n",
       "      <th>title</th>\n",
       "      <th>dti</th>\n",
       "      <th>zip_code</th>\n",
       "      <th>emp_length</th>\n",
       "      <th>policy_code</th>\n",
       "      <th>risk_score</th>\n",
       "      <th>loan_accepted</th>\n",
       "    </tr>\n",
       "  </thead>\n",
       "  <tbody>\n",
       "    <tr>\n",
       "      <th>0</th>\n",
       "      <td>3600</td>\n",
       "      <td>Debt consolidation</td>\n",
       "      <td>5.91</td>\n",
       "      <td>190xx</td>\n",
       "      <td>10+ years</td>\n",
       "      <td>1</td>\n",
       "      <td>677</td>\n",
       "      <td>1</td>\n",
       "    </tr>\n",
       "    <tr>\n",
       "      <th>1</th>\n",
       "      <td>24700</td>\n",
       "      <td>Business</td>\n",
       "      <td>16.06</td>\n",
       "      <td>577xx</td>\n",
       "      <td>10+ years</td>\n",
       "      <td>1</td>\n",
       "      <td>717</td>\n",
       "      <td>1</td>\n",
       "    </tr>\n",
       "    <tr>\n",
       "      <th>2</th>\n",
       "      <td>20000</td>\n",
       "      <td>NaN</td>\n",
       "      <td>10.78</td>\n",
       "      <td>605xx</td>\n",
       "      <td>10+ years</td>\n",
       "      <td>1</td>\n",
       "      <td>697</td>\n",
       "      <td>1</td>\n",
       "    </tr>\n",
       "    <tr>\n",
       "      <th>3</th>\n",
       "      <td>35000</td>\n",
       "      <td>Debt consolidation</td>\n",
       "      <td>17.06</td>\n",
       "      <td>076xx</td>\n",
       "      <td>10+ years</td>\n",
       "      <td>1</td>\n",
       "      <td>787</td>\n",
       "      <td>1</td>\n",
       "    </tr>\n",
       "    <tr>\n",
       "      <th>4</th>\n",
       "      <td>10400</td>\n",
       "      <td>Major purchase</td>\n",
       "      <td>25.37</td>\n",
       "      <td>174xx</td>\n",
       "      <td>3 years</td>\n",
       "      <td>1</td>\n",
       "      <td>697</td>\n",
       "      <td>1</td>\n",
       "    </tr>\n",
       "    <tr>\n",
       "      <th>...</th>\n",
       "      <td>...</td>\n",
       "      <td>...</td>\n",
       "      <td>...</td>\n",
       "      <td>...</td>\n",
       "      <td>...</td>\n",
       "      <td>...</td>\n",
       "      <td>...</td>\n",
       "      <td>...</td>\n",
       "    </tr>\n",
       "    <tr>\n",
       "      <th>29909437</th>\n",
       "      <td>10000</td>\n",
       "      <td>Debt consolidation</td>\n",
       "      <td>41.26%</td>\n",
       "      <td>441xx</td>\n",
       "      <td>&lt; 1 year</td>\n",
       "      <td>0</td>\n",
       "      <td>590</td>\n",
       "      <td>0</td>\n",
       "    </tr>\n",
       "    <tr>\n",
       "      <th>29909438</th>\n",
       "      <td>10000</td>\n",
       "      <td>moving</td>\n",
       "      <td>1.48%</td>\n",
       "      <td>207xx</td>\n",
       "      <td>5 years</td>\n",
       "      <td>0</td>\n",
       "      <td>NaN</td>\n",
       "      <td>0</td>\n",
       "    </tr>\n",
       "    <tr>\n",
       "      <th>29909439</th>\n",
       "      <td>1200</td>\n",
       "      <td>Other</td>\n",
       "      <td>10.26%</td>\n",
       "      <td>914xx</td>\n",
       "      <td>&lt; 1 year</td>\n",
       "      <td>0</td>\n",
       "      <td>686</td>\n",
       "      <td>0</td>\n",
       "    </tr>\n",
       "    <tr>\n",
       "      <th>29909440</th>\n",
       "      <td>25000</td>\n",
       "      <td>debt_consolidation</td>\n",
       "      <td>17.71%</td>\n",
       "      <td>880xx</td>\n",
       "      <td>&lt; 1 year</td>\n",
       "      <td>0</td>\n",
       "      <td>NaN</td>\n",
       "      <td>0</td>\n",
       "    </tr>\n",
       "    <tr>\n",
       "      <th>29909441</th>\n",
       "      <td>15000</td>\n",
       "      <td>Business</td>\n",
       "      <td>10.58%</td>\n",
       "      <td>113xx</td>\n",
       "      <td>&lt; 1 year</td>\n",
       "      <td>0</td>\n",
       "      <td>684</td>\n",
       "      <td>0</td>\n",
       "    </tr>\n",
       "  </tbody>\n",
       "</table>\n",
       "<p>29909442 rows × 8 columns</p>\n",
       "</div>"
      ],
      "text/plain": [
       "         loan_amnt               title     dti zip_code emp_length  \\\n",
       "0             3600  Debt consolidation    5.91    190xx  10+ years   \n",
       "1            24700            Business   16.06    577xx  10+ years   \n",
       "2            20000                 NaN   10.78    605xx  10+ years   \n",
       "3            35000  Debt consolidation   17.06    076xx  10+ years   \n",
       "4            10400      Major purchase   25.37    174xx    3 years   \n",
       "...            ...                 ...     ...      ...        ...   \n",
       "29909437     10000  Debt consolidation  41.26%    441xx   < 1 year   \n",
       "29909438     10000              moving   1.48%    207xx    5 years   \n",
       "29909439      1200               Other  10.26%    914xx   < 1 year   \n",
       "29909440     25000  debt_consolidation  17.71%    880xx   < 1 year   \n",
       "29909441     15000            Business  10.58%    113xx   < 1 year   \n",
       "\n",
       "         policy_code risk_score loan_accepted  \n",
       "0                  1        677             1  \n",
       "1                  1        717             1  \n",
       "2                  1        697             1  \n",
       "3                  1        787             1  \n",
       "4                  1        697             1  \n",
       "...              ...        ...           ...  \n",
       "29909437           0        590             0  \n",
       "29909438           0        NaN             0  \n",
       "29909439           0        686             0  \n",
       "29909440           0        NaN             0  \n",
       "29909441           0        684             0  \n",
       "\n",
       "[29909442 rows x 8 columns]"
      ]
     },
     "execution_count": 12,
     "metadata": {},
     "output_type": "execute_result"
    }
   ],
   "source": [
    "# combine accepted and rejected data into one dataset\n",
    "all_data = np.concatenate((accepted_data_1, rejected_data_0))\n",
    "\n",
    "# create dataframe\n",
    "columns = ['loan_amnt', 'title', 'dti', \n",
    "           'zip_code', 'emp_length', 'policy_code', \n",
    "           'risk_score', 'loan_accepted']\n",
    "df = pd.DataFrame(all_data, columns=columns)\n",
    "df"
   ]
  },
  {
   "cell_type": "markdown",
   "metadata": {},
   "source": [
    "## Data Cleaning\n",
    "Here I cleaned the data set so it can be easily used in the models with numerical representation for all variables."
   ]
  },
  {
   "cell_type": "code",
   "execution_count": 13,
   "metadata": {},
   "outputs": [
    {
     "name": "stdout",
     "output_type": "stream",
     "text": [
      "Unique Values\n",
      "---------------------\n",
      "loan_amnt : 3641\n",
      "title : 127127\n",
      "dti : 136991\n",
      "zip_code : 1002\n",
      "emp_length : 12\n",
      "policy_code : 4\n",
      "risk_score : 694\n",
      "loan_accepted : 2\n",
      "\n",
      "NA Values\n",
      "---------------------\n",
      "loan_amnt              33\n",
      "title               24661\n",
      "dti                  1744\n",
      "zip_code              327\n",
      "emp_length        1098295\n",
      "policy_code           951\n",
      "risk_score       18497663\n",
      "loan_accepted           0\n",
      "dtype: int64\n"
     ]
    }
   ],
   "source": [
    "# print number of unique values in each column\n",
    "print('Unique Values')\n",
    "print('---------------------')\n",
    "for col in df:\n",
    "    print(col, ':', len(df[col].unique()))\n",
    "    \n",
    "# count NA values in each column\n",
    "print('\\nNA Values')\n",
    "print('---------------------')\n",
    "print(df.isna().sum())"
   ]
  },
  {
   "cell_type": "markdown",
   "metadata": {},
   "source": [
    "### Drop Null Values"
   ]
  },
  {
   "cell_type": "code",
   "execution_count": 14,
   "metadata": {
    "scrolled": true
   },
   "outputs": [
    {
     "data": {
      "text/plain": [
       "(11085732, 8)"
      ]
     },
     "execution_count": 14,
     "metadata": {},
     "output_type": "execute_result"
    }
   ],
   "source": [
    "# drop null values, we'll still have ~10,000,000 samples\n",
    "df = df.dropna()\n",
    "df.shape"
   ]
  },
  {
   "cell_type": "markdown",
   "metadata": {},
   "source": [
    "### Drop Policy Code"
   ]
  },
  {
   "cell_type": "code",
   "execution_count": 15,
   "metadata": {},
   "outputs": [
    {
     "name": "stdout",
     "output_type": "stream",
     "text": [
      "Policy Code Frequencies:\n"
     ]
    },
    {
     "data": {
      "text/plain": [
       "0.0    8977809\n",
       "1.0    2093537\n",
       "2.0      14386\n",
       "Name: policy_code, dtype: int64"
      ]
     },
     "execution_count": 15,
     "metadata": {},
     "output_type": "execute_result"
    }
   ],
   "source": [
    "# view policy code frequencies\n",
    "print('Policy Code Frequencies:')\n",
    "df['policy_code'].value_counts()[0:25]"
   ]
  },
  {
   "cell_type": "code",
   "execution_count": 16,
   "metadata": {},
   "outputs": [
    {
     "data": {
      "text/plain": [
       "(11085732, 7)"
      ]
     },
     "execution_count": 16,
     "metadata": {},
     "output_type": "execute_result"
    }
   ],
   "source": [
    "df = df.drop(columns=['policy_code'])\n",
    "df.shape"
   ]
  },
  {
   "cell_type": "markdown",
   "metadata": {},
   "source": [
    "### Categorize Titles"
   ]
  },
  {
   "cell_type": "code",
   "execution_count": 17,
   "metadata": {},
   "outputs": [
    {
     "name": "stdout",
     "output_type": "stream",
     "text": [
      "Number of Samples in Top 25 Titles:  10761277 (97.07%)\n"
     ]
    },
    {
     "data": {
      "text/plain": [
       "Debt consolidation         3470529\n",
       "debt_consolidation         1754600\n",
       "Credit card refinancing    1117254\n",
       "Other                       946605\n",
       "other                       547714\n",
       "credit_card                 444257\n",
       "Home improvement            330997\n",
       "Car financing               320619\n",
       "home_improvement            200555\n",
       "Medical expenses            182395\n",
       "Major purchase              169852\n",
       "car                         164159\n",
       "Moving and relocation       139914\n",
       "small_business              132822\n",
       "major_purchase              129980\n",
       "Home buying                 126745\n",
       "moving                      126643\n",
       "Business                    119396\n",
       "medical                     114570\n",
       "Vacation                     66094\n",
       "house                        54986\n",
       "vacation                     48024\n",
       "Debt Consolidation           20444\n",
       "wedding                      17691\n",
       "Green loan                   14432\n",
       "Name: title, dtype: int64"
      ]
     },
     "execution_count": 17,
     "metadata": {},
     "output_type": "execute_result"
    }
   ],
   "source": [
    "# determine types of values for 'title'\n",
    "sum_25 = sum(df['title'].value_counts()[0:25])\n",
    "percent_25 = np.round((sum_25/len(df['title']))*100,2)\n",
    "print(f'Number of Samples in Top 25 Titles:  {sum_25} ({percent_25}%)')\n",
    "df['title'].value_counts()[0:25]"
   ]
  },
  {
   "cell_type": "markdown",
   "metadata": {},
   "source": [
    "As we can see, 98.74% of the samples include the top 25 most common titles, so we should include samples which have titles with the corresponding topics. These topics are: debt (0), credit card (1), car (2), home improvement (3), home buying (4), major purchase (5), medical (6), business (7), vacation (8), environmental (9), and other (10)."
   ]
  },
  {
   "cell_type": "code",
   "execution_count": 18,
   "metadata": {},
   "outputs": [
    {
     "data": {
      "text/plain": [
       "(10878960, 7)"
      ]
     },
     "execution_count": 18,
     "metadata": {},
     "output_type": "execute_result"
    }
   ],
   "source": [
    "# categorize 'title' variables\n",
    "\n",
    "# extract titles from 'title'\n",
    "titles = list(df['title'])\n",
    "\n",
    "new_titles = [0 for i in range(len(titles))]\n",
    "\n",
    "for i in range(len(titles)):\n",
    "    t = str(titles[i])\n",
    "    if('debt' in t.lower()): \n",
    "        new_titles[i] = int(0) \n",
    "    elif('card' in t.lower()):\n",
    "        new_titles[i] = int(1)\n",
    "    elif('car' in t.lower()):\n",
    "        new_titles[i] = int(2)\n",
    "    elif('improvement' in t.lower()):\n",
    "        new_titles[i] = int(3)\n",
    "    elif('home buying' in t.lower() or \\\n",
    "         'house' in t.lower() or 'moving' in t.lower()):\n",
    "        new_titles[i] = int(4)\n",
    "    elif('major' in t.lower()):\n",
    "        new_titles[i] = int(5)\n",
    "    elif('medical' in t.lower()):\n",
    "        new_titles[i] = int(6)\n",
    "    elif('business' in t.lower()):\n",
    "        new_titles[i] = int(7)\n",
    "    elif('vacation' in t.lower()):\n",
    "        new_titles[i] = int(8)\n",
    "    elif('green' in t.lower() or 'energy' in t.lower()):\n",
    "        new_titles[i] = int(9)\n",
    "    elif('other' in t.lower()):\n",
    "        new_titles[i] = int(10)\n",
    "    else:\n",
    "        new_titles[i] = np.nan\n",
    "\n",
    "df['title'] = new_titles\n",
    "df = df.dropna() # drop samples without title\n",
    "df.shape"
   ]
  },
  {
   "cell_type": "markdown",
   "metadata": {},
   "source": [
    "### Reformat to Numerical Values"
   ]
  },
  {
   "cell_type": "code",
   "execution_count": 19,
   "metadata": {},
   "outputs": [],
   "source": [
    "# re-format 'emp_length' to integers\n",
    "\n",
    "# extract employment length from 'emp_length'\n",
    "emp_lengths = list(df['emp_length'])\n",
    "\n",
    "new_emp_lengths = [0 for i in range(len(emp_lengths))]\n",
    "\n",
    "for i in range(len(emp_lengths)):\n",
    "    l = str(emp_lengths[i])\n",
    "    if(l[0]=='<'): # use 0.5 for less than 1 year\n",
    "        new_emp_lengths[i] = float(0.5) \n",
    "    elif(l[0:1]=='10'):\n",
    "        new_emp_lengths[i] = float(10)\n",
    "    else:\n",
    "        new_emp_lengths[i] = float(l[0])\n",
    "\n",
    "df['emp_length'] = new_emp_lengths"
   ]
  },
  {
   "cell_type": "code",
   "execution_count": 20,
   "metadata": {},
   "outputs": [],
   "source": [
    "# remove '%' sign from 'dti'\n",
    "\n",
    "# extract dti from 'dti'\n",
    "dtis = list(df['dti'])\n",
    "\n",
    "new_dtis = [0 for i in range(len(dtis))]\n",
    "\n",
    "for i in range(len(dtis)):\n",
    "    dti = str(dtis[i])\n",
    "    if(dti[-1]=='%'): \n",
    "        new_dtis[i] = float(dti[:-1])\n",
    "    else:\n",
    "        new_dtis[i] = float(dti)\n",
    "\n",
    "df['dti'] = new_dtis"
   ]
  },
  {
   "cell_type": "code",
   "execution_count": 21,
   "metadata": {},
   "outputs": [],
   "source": [
    "# remove 'xx' sign from 'zip_code'\n",
    "\n",
    "# fix irregular value\n",
    "df['zip_code'] = df['zip_code'].replace({'09Oxx':'090xx'})\n",
    "\n",
    "# extract zip code from 'zip_code'\n",
    "zip_codes = list(df['zip_code'])\n",
    "\n",
    "new_zip_codes = [0 for i in range(len(zip_codes))]\n",
    "\n",
    "for i in range(len(zip_codes)):\n",
    "    code = str(zip_codes[i])\n",
    "    new_zip_codes[i] = int(code[:-2])\n",
    "\n",
    "df['zip_code'] = new_zip_codes"
   ]
  },
  {
   "cell_type": "code",
   "execution_count": 22,
   "metadata": {},
   "outputs": [
    {
     "name": "stdout",
     "output_type": "stream",
     "text": [
      "<class 'pandas.core.frame.DataFrame'>\n",
      "Int64Index: 10878960 entries, 0 to 29909441\n",
      "Data columns (total 7 columns):\n",
      " #   Column         Dtype  \n",
      "---  ------         -----  \n",
      " 0   loan_amnt      int64  \n",
      " 1   title          float64\n",
      " 2   dti            float64\n",
      " 3   zip_code       int64  \n",
      " 4   emp_length     float64\n",
      " 5   risk_score     float64\n",
      " 6   loan_accepted  int64  \n",
      "dtypes: float64(4), int64(3)\n",
      "memory usage: 664.0 MB\n"
     ]
    }
   ],
   "source": [
    "# fix data types for remaining variables\n",
    "df['loan_amnt'] = df['loan_amnt'].astype(int)\n",
    "df['loan_accepted'] = df['loan_accepted'].astype(int)\n",
    "df['risk_score'] = df['risk_score'].astype(float)\n",
    "\n",
    "df.info()"
   ]
  },
  {
   "cell_type": "code",
   "execution_count": 23,
   "metadata": {},
   "outputs": [
    {
     "data": {
      "text/html": [
       "<div>\n",
       "<style scoped>\n",
       "    .dataframe tbody tr th:only-of-type {\n",
       "        vertical-align: middle;\n",
       "    }\n",
       "\n",
       "    .dataframe tbody tr th {\n",
       "        vertical-align: top;\n",
       "    }\n",
       "\n",
       "    .dataframe thead th {\n",
       "        text-align: right;\n",
       "    }\n",
       "</style>\n",
       "<table border=\"1\" class=\"dataframe\">\n",
       "  <thead>\n",
       "    <tr style=\"text-align: right;\">\n",
       "      <th></th>\n",
       "      <th>loan_amnt</th>\n",
       "      <th>title</th>\n",
       "      <th>dti</th>\n",
       "      <th>zip_code</th>\n",
       "      <th>emp_length</th>\n",
       "      <th>risk_score</th>\n",
       "      <th>loan_accepted</th>\n",
       "    </tr>\n",
       "  </thead>\n",
       "  <tbody>\n",
       "    <tr>\n",
       "      <th>0</th>\n",
       "      <td>3600</td>\n",
       "      <td>0.0</td>\n",
       "      <td>5.91</td>\n",
       "      <td>190</td>\n",
       "      <td>1.0</td>\n",
       "      <td>677.0</td>\n",
       "      <td>1</td>\n",
       "    </tr>\n",
       "    <tr>\n",
       "      <th>1</th>\n",
       "      <td>24700</td>\n",
       "      <td>7.0</td>\n",
       "      <td>16.06</td>\n",
       "      <td>577</td>\n",
       "      <td>1.0</td>\n",
       "      <td>717.0</td>\n",
       "      <td>1</td>\n",
       "    </tr>\n",
       "    <tr>\n",
       "      <th>3</th>\n",
       "      <td>35000</td>\n",
       "      <td>0.0</td>\n",
       "      <td>17.06</td>\n",
       "      <td>76</td>\n",
       "      <td>1.0</td>\n",
       "      <td>787.0</td>\n",
       "      <td>1</td>\n",
       "    </tr>\n",
       "    <tr>\n",
       "      <th>4</th>\n",
       "      <td>10400</td>\n",
       "      <td>5.0</td>\n",
       "      <td>25.37</td>\n",
       "      <td>174</td>\n",
       "      <td>3.0</td>\n",
       "      <td>697.0</td>\n",
       "      <td>1</td>\n",
       "    </tr>\n",
       "    <tr>\n",
       "      <th>5</th>\n",
       "      <td>11950</td>\n",
       "      <td>0.0</td>\n",
       "      <td>10.20</td>\n",
       "      <td>300</td>\n",
       "      <td>4.0</td>\n",
       "      <td>692.0</td>\n",
       "      <td>1</td>\n",
       "    </tr>\n",
       "    <tr>\n",
       "      <th>...</th>\n",
       "      <td>...</td>\n",
       "      <td>...</td>\n",
       "      <td>...</td>\n",
       "      <td>...</td>\n",
       "      <td>...</td>\n",
       "      <td>...</td>\n",
       "      <td>...</td>\n",
       "    </tr>\n",
       "    <tr>\n",
       "      <th>29909434</th>\n",
       "      <td>30000</td>\n",
       "      <td>0.0</td>\n",
       "      <td>55.15</td>\n",
       "      <td>726</td>\n",
       "      <td>0.5</td>\n",
       "      <td>681.0</td>\n",
       "      <td>0</td>\n",
       "    </tr>\n",
       "    <tr>\n",
       "      <th>29909435</th>\n",
       "      <td>1000</td>\n",
       "      <td>0.0</td>\n",
       "      <td>31.31</td>\n",
       "      <td>761</td>\n",
       "      <td>0.5</td>\n",
       "      <td>531.0</td>\n",
       "      <td>0</td>\n",
       "    </tr>\n",
       "    <tr>\n",
       "      <th>29909437</th>\n",
       "      <td>10000</td>\n",
       "      <td>0.0</td>\n",
       "      <td>41.26</td>\n",
       "      <td>441</td>\n",
       "      <td>0.5</td>\n",
       "      <td>590.0</td>\n",
       "      <td>0</td>\n",
       "    </tr>\n",
       "    <tr>\n",
       "      <th>29909439</th>\n",
       "      <td>1200</td>\n",
       "      <td>10.0</td>\n",
       "      <td>10.26</td>\n",
       "      <td>914</td>\n",
       "      <td>0.5</td>\n",
       "      <td>686.0</td>\n",
       "      <td>0</td>\n",
       "    </tr>\n",
       "    <tr>\n",
       "      <th>29909441</th>\n",
       "      <td>15000</td>\n",
       "      <td>7.0</td>\n",
       "      <td>10.58</td>\n",
       "      <td>113</td>\n",
       "      <td>0.5</td>\n",
       "      <td>684.0</td>\n",
       "      <td>0</td>\n",
       "    </tr>\n",
       "  </tbody>\n",
       "</table>\n",
       "<p>10878960 rows × 7 columns</p>\n",
       "</div>"
      ],
      "text/plain": [
       "          loan_amnt  title    dti  zip_code  emp_length  risk_score  \\\n",
       "0              3600    0.0   5.91       190         1.0       677.0   \n",
       "1             24700    7.0  16.06       577         1.0       717.0   \n",
       "3             35000    0.0  17.06        76         1.0       787.0   \n",
       "4             10400    5.0  25.37       174         3.0       697.0   \n",
       "5             11950    0.0  10.20       300         4.0       692.0   \n",
       "...             ...    ...    ...       ...         ...         ...   \n",
       "29909434      30000    0.0  55.15       726         0.5       681.0   \n",
       "29909435       1000    0.0  31.31       761         0.5       531.0   \n",
       "29909437      10000    0.0  41.26       441         0.5       590.0   \n",
       "29909439       1200   10.0  10.26       914         0.5       686.0   \n",
       "29909441      15000    7.0  10.58       113         0.5       684.0   \n",
       "\n",
       "          loan_accepted  \n",
       "0                     1  \n",
       "1                     1  \n",
       "3                     1  \n",
       "4                     1  \n",
       "5                     1  \n",
       "...                 ...  \n",
       "29909434              0  \n",
       "29909435              0  \n",
       "29909437              0  \n",
       "29909439              0  \n",
       "29909441              0  \n",
       "\n",
       "[10878960 rows x 7 columns]"
      ]
     },
     "execution_count": 23,
     "metadata": {},
     "output_type": "execute_result"
    }
   ],
   "source": [
    "df"
   ]
  },
  {
   "cell_type": "markdown",
   "metadata": {},
   "source": [
    "### Save Formatted Dataset\n",
    "I saved the formatted dataset to a csv file to avoid running the formatting code each time."
   ]
  },
  {
   "cell_type": "code",
   "execution_count": 24,
   "metadata": {},
   "outputs": [],
   "source": [
    "# save formatted dataframe to csv file\n",
    "df.to_csv('formatted_data.csv.zip', \n",
    "          compression={'method':'zip'})"
   ]
  },
  {
   "cell_type": "code",
   "execution_count": 25,
   "metadata": {},
   "outputs": [],
   "source": [
    "# import formatted dataframe\n",
    "df = pd.read_csv('formatted_data.csv.zip', \n",
    "                 compression='zip')\n",
    "# drop index column\n",
    "df = df[['loan_amnt', 'title', 'dti', 'zip_code', \n",
    "         'emp_length', 'risk_score', 'loan_accepted']]"
   ]
  },
  {
   "cell_type": "markdown",
   "metadata": {},
   "source": [
    "## Splitting & Scaling\n",
    "\n",
    "The dataset is split into training and testing sets and scaled. Scaling is sensitive to outliers, so outliers are removed from datasets."
   ]
  },
  {
   "cell_type": "markdown",
   "metadata": {},
   "source": [
    "### Removing Outliers"
   ]
  },
  {
   "cell_type": "code",
   "execution_count": 27,
   "metadata": {
    "scrolled": false
   },
   "outputs": [
    {
     "data": {
      "text/plain": [
       "<Figure size 432x288 with 0 Axes>"
      ]
     },
     "metadata": {},
     "output_type": "display_data"
    },
    {
     "data": {
      "image/png": "[encoded data removed]",
      "text/plain": [
       "<Figure size 864x936 with 9 Axes>"
      ]
     },
     "metadata": {
      "needs_background": "light"
     },
     "output_type": "display_data"
    }
   ],
   "source": [
    "plt.figure()\n",
    "df.hist(bins = 30, figsize = (12,13), \n",
    "        color = 'thistle', grid = False, xrot = 30)\n",
    "plt.suptitle(\"Distribution of Column Values\")\n",
    "plt.show()"
   ]
  },
  {
   "cell_type": "code",
   "execution_count": 28,
   "metadata": {},
   "outputs": [],
   "source": [
    "# reduce dti to 95% quantile\n",
    "dti_05 = df['dti'].quantile(0.05)\n",
    "dti_95 = df['dti'].quantile(0.95)\n",
    "df = df[(df['dti'] > dti_05) & (df['dti'] < dti_95)]"
   ]
  },
  {
   "cell_type": "code",
   "execution_count": 29,
   "metadata": {},
   "outputs": [
    {
     "data": {
      "image/png": "[encoded data removed]",
      "text/plain": [
       "<Figure size 288x216 with 1 Axes>"
      ]
     },
     "metadata": {
      "needs_background": "light"
     },
     "output_type": "display_data"
    }
   ],
   "source": [
    "# plot new dti frequencies\n",
    "plt.figure(figsize=(4,3))\n",
    "plt.hist(df['dti'], bins=30, color='thistle')\n",
    "plt.title('New Distribution of dti')\n",
    "plt.xlabel('dti')\n",
    "plt.ylabel('Frequency')\n",
    "plt.show()"
   ]
  },
  {
   "cell_type": "code",
   "execution_count": 30,
   "metadata": {},
   "outputs": [],
   "source": [
    "# reduce loan_amnt to 95% quantile\n",
    "loan_amnt_05 = df['loan_amnt'].quantile(0.05)\n",
    "loan_amnt_95 = df['loan_amnt'].quantile(0.95)\n",
    "df = df[(df['loan_amnt'] > loan_amnt_05) & \\\n",
    "        (df['loan_amnt'] < loan_amnt_95)]"
   ]
  },
  {
   "cell_type": "code",
   "execution_count": 31,
   "metadata": {
    "scrolled": true
   },
   "outputs": [
    {
     "data": {
      "image/png": "[encoded data removed]",
      "text/plain": [
       "<Figure size 288x216 with 1 Axes>"
      ]
     },
     "metadata": {
      "needs_background": "light"
     },
     "output_type": "display_data"
    }
   ],
   "source": [
    "# plot new dti frequencies\n",
    "plt.figure(figsize=(4,3))\n",
    "plt.hist(df['loan_amnt'], bins=30, color='thistle')\n",
    "plt.title('New Distribution of loan_amnt')\n",
    "plt.xlabel('loan_amnt')\n",
    "plt.ylabel('Frequency')\n",
    "plt.show()"
   ]
  },
  {
   "cell_type": "code",
   "execution_count": 32,
   "metadata": {},
   "outputs": [
    {
     "data": {
      "text/plain": [
       "(8471377, 7)"
      ]
     },
     "execution_count": 32,
     "metadata": {},
     "output_type": "execute_result"
    }
   ],
   "source": [
    "df.shape"
   ]
  },
  {
   "cell_type": "markdown",
   "metadata": {},
   "source": [
    "### Evenly Distribute loan_accepted"
   ]
  },
  {
   "cell_type": "code",
   "execution_count": 33,
   "metadata": {},
   "outputs": [],
   "source": [
    "# separate dataframe by 'loan_accepted' status\n",
    "df_accepted = df.loc[df['loan_accepted'] == 1]\n",
    "df_rejected = df.loc[df['loan_accepted'] == 0]\n",
    "\n",
    "# randomly sample from accepted loans\n",
    "size = len(df_accepted)\n",
    "df_rejected_new = df_rejected.sample(n=size,replace=False)\n",
    "\n",
    "# concat remaining accepted samples with rejected samples\n",
    "df2 = pd.concat([df_accepted, df_rejected_new])"
   ]
  },
  {
   "cell_type": "code",
   "execution_count": 34,
   "metadata": {},
   "outputs": [
    {
     "data": {
      "image/png": "[encoded data removed]",
      "text/plain": [
       "<Figure size 288x216 with 1 Axes>"
      ]
     },
     "metadata": {
      "needs_background": "light"
     },
     "output_type": "display_data"
    }
   ],
   "source": [
    "# plot new loan_accepted frequencies\n",
    "plt.figure(figsize=(4,3))\n",
    "plt.hist(df2['loan_accepted'], bins=30, color='thistle')\n",
    "plt.title('New Distribution of loan_accepted')\n",
    "plt.xlabel('loan_accepted')\n",
    "plt.ylabel('Frequency')\n",
    "plt.show()"
   ]
  },
  {
   "cell_type": "code",
   "execution_count": 35,
   "metadata": {},
   "outputs": [
    {
     "data": {
      "text/plain": [
       "(3726470, 7)"
      ]
     },
     "execution_count": 35,
     "metadata": {},
     "output_type": "execute_result"
    }
   ],
   "source": [
    "df2.shape"
   ]
  },
  {
   "cell_type": "code",
   "execution_count": 36,
   "metadata": {
    "scrolled": false
   },
   "outputs": [
    {
     "data": {
      "image/png": "[encoded data removed]",
      "text/plain": [
       "<Figure size 576x432 with 2 Axes>"
      ]
     },
     "metadata": {
      "needs_background": "light"
     },
     "output_type": "display_data"
    }
   ],
   "source": [
    "# plot heatmap to show correlation between variables\n",
    "plt.figure(figsize=(8,6))\n",
    "\n",
    "ax = sns.heatmap(df2.corr(), \n",
    "                 vmin=-1, vmax=1, center=0,\n",
    "                 cmap=sns.diverging_palette(220, 1, n=200),\n",
    "                 square=True, annot=True)\n",
    "\n",
    "ax.set_xticklabels(ax.get_xticklabels(),\n",
    "                   rotation=45,\n",
    "                   horizontalalignment='right')\n",
    "\n",
    "plt.title('Correlation Matrix')\n",
    "plt.show()"
   ]
  },
  {
   "cell_type": "markdown",
   "metadata": {},
   "source": [
    "### Split & Scale Data"
   ]
  },
  {
   "cell_type": "code",
   "execution_count": 37,
   "metadata": {},
   "outputs": [],
   "source": [
    "from sklearn.model_selection import train_test_split\n",
    "from sklearn.preprocessing import MinMaxScaler"
   ]
  },
  {
   "cell_type": "code",
   "execution_count": 127,
   "metadata": {},
   "outputs": [],
   "source": [
    "# define variables\n",
    "\n",
    "# use all but 'loan_accepted' as independent variables\n",
    "X = df2.drop('loan_accepted', axis=1)\n",
    "\n",
    "# use 'loan_accepted' as dependent variable\n",
    "y = df2['loan_accepted']\n",
    "\n",
    "# split data into train and test sets\n",
    "X_train, X_test, y_train, y_test = \\\n",
    "train_test_split(X, y, test_size=0.2, random_state=0)\n",
    "\n",
    "# scale data\n",
    "scaler = MinMaxScaler()\n",
    "X_train = scaler.fit_transform(X_train)\n",
    "X_test = scaler.transform(X_test)"
   ]
  },
  {
   "cell_type": "markdown",
   "metadata": {},
   "source": [
    "## Model & Results\n",
    "\n",
    "Define a logistic regression model to predict whether a loan would be accepted or rejected using data.\n",
    "\n"
   ]
  },
  {
   "cell_type": "code",
   "execution_count": 534,
   "metadata": {},
   "outputs": [],
   "source": [
    "from sklearn.linear_model import LogisticRegression\n",
    "from sklearn.linear_model import LogisticRegressionCV\n",
    "from sklearn.metrics import classification_report, plot_confusion_matrix, \\\n",
    "accuracy_score, roc_curve, roc_auc_score\n",
    "from sklearn.model_selection import GridSearchCV, cross_val_score"
   ]
  },
  {
   "cell_type": "markdown",
   "metadata": {},
   "source": [
    "### Grid-Search Cross-Validation"
   ]
  },
  {
   "cell_type": "code",
   "execution_count": 58,
   "metadata": {},
   "outputs": [
    {
     "name": "stdout",
     "output_type": "stream",
     "text": [
      "Cross-Validation Complete\n",
      "CPU times: user 32min 1s, sys: 2min 21s, total: 34min 23s\n",
      "Wall time: 23min 45s\n"
     ]
    }
   ],
   "source": [
    "%%time\n",
    "# create the hyperparameter grid\n",
    "param_grid = {'C' : [0.1,1,10], \n",
    "              'solver' : ['lbfgs', 'sag', 'saga'], \n",
    "              'tol' : [0.0001, 0.001, 0.01, 0.1]}\n",
    "\n",
    "# create logistic regression classifier\n",
    "logregs = LogisticRegression()\n",
    "\n",
    "# define GridSearchCV object\n",
    "logreg_cv = GridSearchCV(logregs, param_grid, cv=5)\n",
    "\n",
    "# fit GridSearchCV object to training data\n",
    "logreg_cv.fit(X_train, y_train)\n",
    "\n",
    "print('Cross-Validation Complete')"
   ]
  },
  {
   "cell_type": "code",
   "execution_count": 59,
   "metadata": {},
   "outputs": [
    {
     "name": "stdout",
     "output_type": "stream",
     "text": [
      "Tuned Log-Reg Parameters: {'C': 10, 'solver': 'saga', 'tol': 0.01}\n",
      "Tuned Log-Reg Accuracy: 0.8364011362090699\n"
     ]
    }
   ],
   "source": [
    "# print best parameters and best score\n",
    "print(f'Tuned Log-Reg Parameters: {logreg_cv.best_params_}')\n",
    "print(f'Tuned Log-Reg Accuracy: {logreg_cv.best_score_}')"
   ]
  },
  {
   "cell_type": "markdown",
   "metadata": {},
   "source": [
    "### Logistic Regression"
   ]
  },
  {
   "cell_type": "code",
   "execution_count": 128,
   "metadata": {},
   "outputs": [],
   "source": [
    "# create the classifier\n",
    "logreg = LogisticRegression(C=10, solver='saga', tol=0.01)\n",
    "\n",
    "# fit the classifier to the training data\n",
    "logreg.fit(X_train,y_train)\n",
    "\n",
    "# predict the labels of the test set\n",
    "y_pred = logreg.predict(X_test)"
   ]
  },
  {
   "cell_type": "code",
   "execution_count": 583,
   "metadata": {},
   "outputs": [
    {
     "name": "stdout",
     "output_type": "stream",
     "text": [
      "Model Coefficients:\n"
     ]
    },
    {
     "data": {
      "text/plain": [
       "array([[ 0.3670628 , -1.11940209, -3.40152447,  0.11981281,  5.47288097,\n",
       "        28.45368496]])"
      ]
     },
     "execution_count": 583,
     "metadata": {},
     "output_type": "execute_result"
    }
   ],
   "source": [
    "# print coeffients\n",
    "print('Model Coefficients:')\n",
    "logreg.coef_"
   ]
  },
  {
   "cell_type": "code",
   "execution_count": 129,
   "metadata": {},
   "outputs": [
    {
     "name": "stdout",
     "output_type": "stream",
     "text": [
      "Classification Report:\n",
      "              precision    recall  f1-score   support\n",
      "\n",
      "           0       0.85      0.82      0.84    372808\n",
      "           1       0.82      0.86      0.84    372486\n",
      "\n",
      "    accuracy                           0.84    745294\n",
      "   macro avg       0.84      0.84      0.84    745294\n",
      "weighted avg       0.84      0.84      0.84    745294\n",
      "\n",
      "Accuracy Score (Train): 0.8387981789736668\n",
      "Accuracy Score (Test): 0.8387052626211938\n"
     ]
    }
   ],
   "source": [
    "# compute and print the classification report\n",
    "print('Classification Report:')\n",
    "print(classification_report(y_test, y_pred))\n",
    "print(f'Accuracy Score (Train): {logreg.score(X_train, y_train)}')\n",
    "print(f'Accuracy Score (Test): {logreg.score(X_test, y_test)}')"
   ]
  },
  {
   "cell_type": "code",
   "execution_count": 150,
   "metadata": {},
   "outputs": [
    {
     "data": {
      "text/plain": [
       "<Figure size 432x288 with 0 Axes>"
      ]
     },
     "metadata": {},
     "output_type": "display_data"
    },
    {
     "data": {
      "image/png": "[encoded data removed]",
      "text/plain": [
       "<Figure size 432x288 with 2 Axes>"
      ]
     },
     "metadata": {
      "needs_background": "light"
     },
     "output_type": "display_data"
    },
    {
     "data": {
      "text/plain": [
       "<Figure size 432x288 with 0 Axes>"
      ]
     },
     "metadata": {},
     "output_type": "display_data"
    },
    {
     "data": {
      "image/png": "[encoded data removed]",
      "text/plain": [
       "<Figure size 432x288 with 2 Axes>"
      ]
     },
     "metadata": {
      "needs_background": "light"
     },
     "output_type": "display_data"
    }
   ],
   "source": [
    "# plot confusion matrices\n",
    "\n",
    "# train data\n",
    "plt.figure()\n",
    "plot_confusion_matrix(logreg, X_train, y_train, cmap=plt.cm.bone_r)\n",
    "plt.title('Confusion Matrix (Train)')\n",
    "plt.show()\n",
    "\n",
    "# test data\n",
    "plt.figure()\n",
    "plot_confusion_matrix(logreg, X_test, y_test, cmap=plt.cm.bone_r)\n",
    "plt.title('Confusion Matrix (Test)')\n",
    "plt.show()"
   ]
  },
  {
   "cell_type": "code",
   "execution_count": 533,
   "metadata": {},
   "outputs": [
    {
     "data": {
      "image/png": "[encoded data removed]",
      "text/plain": [
       "<Figure size 576x432 with 1 Axes>"
      ]
     },
     "metadata": {
      "needs_background": "light"
     },
     "output_type": "display_data"
    }
   ],
   "source": [
    "# plot ROC curve\n",
    "\n",
    "# calculate predicted probabilities\n",
    "y_pred_prob = logreg.predict_proba(X_test)[:,1]\n",
    "\n",
    "# calculate ROC curve values\n",
    "fpr, tpr, thresholds = roc_curve(y_test, y_pred_prob)\n",
    "\n",
    "# plot ROC curve\n",
    "plt.figure(figsize=(8,6))\n",
    "plt.plot([0, 1], [0, 1], 'k--')\n",
    "plt.plot(fpr, tpr, color='palevioletred')\n",
    "plt.xlabel('False Positive Rate')\n",
    "plt.ylabel('True Positive Rate')\n",
    "plt.title('ROC Curve')\n",
    "plt.show()"
   ]
  },
  {
   "cell_type": "code",
   "execution_count": 538,
   "metadata": {},
   "outputs": [
    {
     "name": "stdout",
     "output_type": "stream",
     "text": [
      "AUC: 0.908\n",
      "Cross-Validated AUC: [0.769 0.755 0.77  0.77  0.771]\n"
     ]
    }
   ],
   "source": [
    "# calculate AUC score\n",
    "\n",
    "auc = roc_auc_score(y_test, y_pred_prob)\n",
    "\n",
    "print(f'AUC: {np.round(auc,3)}')\n",
    "\n",
    "# calculate Cross-Validated AUC score\n",
    "cv_auc = cross_val_score(logreg, X, y, \n",
    "                         cv=5, scoring='roc_auc')\n",
    "\n",
    "print(f'Cross-Validated AUC: {np.round(cv_auc,3)}')"
   ]
  },
  {
   "cell_type": "code",
   "execution_count": 540,
   "metadata": {},
   "outputs": [
    {
     "name": "stdout",
     "output_type": "stream",
     "text": [
      "Cross-Validated AUC: 0.7670535654128972\n"
     ]
    }
   ],
   "source": [
    "print(f'Cross-Validated AUC: {np.mean(cv_auc)}')"
   ]
  },
  {
   "cell_type": "markdown",
   "metadata": {},
   "source": [
    "## Predicting Loan Limits\n",
    "Predict the maximum loan an applicant should apply for where is expected to be approved.\n",
    "### Define Predicting Function"
   ]
  },
  {
   "cell_type": "code",
   "execution_count": 579,
   "metadata": {},
   "outputs": [],
   "source": [
    "def predict(user):\n",
    "    '''\n",
    "    Given a user's data, this function calculates\n",
    "    the highest loan amount the user can apply \n",
    "    for where it is expected to be approved.\n",
    "    Predictions are made using a pre-defined \n",
    "    logistic regression classifier.\n",
    "    '''\n",
    "    \n",
    "    # drop 'loan_accepted' and show user data\n",
    "    user_copy = user.copy().drop(columns=['loan_accepted'])\n",
    "    display(user_copy)\n",
    "\n",
    "    amounts = []\n",
    "    predictions = []\n",
    "    \n",
    "    # make predictions for whether user is \n",
    "    # accepted or rejected for different loan amounts\n",
    "    for i in range(500,40000,500):\n",
    "        user_copy['loan_amnt'] = i\n",
    "        user_scaled = scaler.transform(user_copy)\n",
    "        \n",
    "        prediction = logreg.predict(user_scaled)\n",
    "        \n",
    "        predictions.append(prediction)       \n",
    "        amounts.append(i)\n",
    "    \n",
    "    # record results\n",
    "    predictions = list(np.concatenate(predictions, axis=0))\n",
    "    pred = [i for i in zip(predictions, amounts)]\n",
    "    rejected = [i[1] for i in pred if i[0] == 0]\n",
    "    accepted = [i[1] for i in pred if i[0] == 1]\n",
    "    \n",
    "    # calculate min/max loan amount using results\n",
    "    if len(rejected)>0:\n",
    "        if(rejected[0]==min(amounts)):\n",
    "            if len(accepted)>0:\n",
    "                print(f'Minimum Loan: ${max(rejected)}')\n",
    "                vline = max(rejected)\n",
    "            else:\n",
    "                print(f'Loan Not Available')\n",
    "                vline = 0\n",
    "        else:\n",
    "            print(f'Minimum Loan: ${max(rejected)}')\n",
    "            vline = max(rejected)\n",
    "    else: \n",
    "        print('No Maximum/Minimum')\n",
    "        vline = 0    \n",
    "    \n",
    "    \n",
    "    # plot results\n",
    "    plt.figure(figsize=(6,4)) \n",
    "    plt.plot(amounts, predictions, color='olivedrab')\n",
    "    \n",
    "    # plot vline if there is a min/max loan amount\n",
    "    if vline > 0:\n",
    "        plt.vlines(vline, ymin=0, ymax=1, \n",
    "                   color='lightcoral', linestyles='dashed')\n",
    "        \n",
    "    plt.title('Predictions for User')\n",
    "    plt.xlabel('Loan Amount')\n",
    "    plt.ylabel('Accepted (1) or Rejected (0)')\n",
    "    plt.show()\n"
   ]
  },
  {
   "cell_type": "markdown",
   "metadata": {},
   "source": [
    "### Test Predicting Function"
   ]
  },
  {
   "cell_type": "code",
   "execution_count": 576,
   "metadata": {},
   "outputs": [
    {
     "data": {
      "text/html": [
       "<div>\n",
       "<style scoped>\n",
       "    .dataframe tbody tr th:only-of-type {\n",
       "        vertical-align: middle;\n",
       "    }\n",
       "\n",
       "    .dataframe tbody tr th {\n",
       "        vertical-align: top;\n",
       "    }\n",
       "\n",
       "    .dataframe thead th {\n",
       "        text-align: right;\n",
       "    }\n",
       "</style>\n",
       "<table border=\"1\" class=\"dataframe\">\n",
       "  <thead>\n",
       "    <tr style=\"text-align: right;\">\n",
       "      <th></th>\n",
       "      <th>loan_amnt</th>\n",
       "      <th>title</th>\n",
       "      <th>dti</th>\n",
       "      <th>zip_code</th>\n",
       "      <th>emp_length</th>\n",
       "      <th>risk_score</th>\n",
       "    </tr>\n",
       "  </thead>\n",
       "  <tbody>\n",
       "    <tr>\n",
       "      <th>676542</th>\n",
       "      <td>7000</td>\n",
       "      <td>0.0</td>\n",
       "      <td>15.67</td>\n",
       "      <td>480</td>\n",
       "      <td>1.0</td>\n",
       "      <td>727.0</td>\n",
       "    </tr>\n",
       "  </tbody>\n",
       "</table>\n",
       "</div>"
      ],
      "text/plain": [
       "        loan_amnt  title    dti  zip_code  emp_length  risk_score\n",
       "676542       7000    0.0  15.67       480         1.0       727.0"
      ]
     },
     "metadata": {},
     "output_type": "display_data"
    },
    {
     "name": "stdout",
     "output_type": "stream",
     "text": [
      "No Maximum/Minimum\n"
     ]
    },
    {
     "data": {
      "image/png": "[encoded data removed]",
      "text/plain": [
       "<Figure size 432x288 with 1 Axes>"
      ]
     },
     "metadata": {
      "needs_background": "light"
     },
     "output_type": "display_data"
    }
   ],
   "source": [
    "user_1 = df2.sample(n=1,random_state=0)\n",
    "predict(user_1)"
   ]
  },
  {
   "cell_type": "code",
   "execution_count": 577,
   "metadata": {},
   "outputs": [
    {
     "data": {
      "text/html": [
       "<div>\n",
       "<style scoped>\n",
       "    .dataframe tbody tr th:only-of-type {\n",
       "        vertical-align: middle;\n",
       "    }\n",
       "\n",
       "    .dataframe tbody tr th {\n",
       "        vertical-align: top;\n",
       "    }\n",
       "\n",
       "    .dataframe thead th {\n",
       "        text-align: right;\n",
       "    }\n",
       "</style>\n",
       "<table border=\"1\" class=\"dataframe\">\n",
       "  <thead>\n",
       "    <tr style=\"text-align: right;\">\n",
       "      <th></th>\n",
       "      <th>loan_amnt</th>\n",
       "      <th>title</th>\n",
       "      <th>dti</th>\n",
       "      <th>zip_code</th>\n",
       "      <th>emp_length</th>\n",
       "      <th>risk_score</th>\n",
       "    </tr>\n",
       "  </thead>\n",
       "  <tbody>\n",
       "    <tr>\n",
       "      <th>7679650</th>\n",
       "      <td>5000</td>\n",
       "      <td>0.0</td>\n",
       "      <td>54.14</td>\n",
       "      <td>840</td>\n",
       "      <td>0.5</td>\n",
       "      <td>554.0</td>\n",
       "    </tr>\n",
       "  </tbody>\n",
       "</table>\n",
       "</div>"
      ],
      "text/plain": [
       "         loan_amnt  title    dti  zip_code  emp_length  risk_score\n",
       "7679650       5000    0.0  54.14       840         0.5       554.0"
      ]
     },
     "metadata": {},
     "output_type": "display_data"
    },
    {
     "name": "stdout",
     "output_type": "stream",
     "text": [
      "Loan Not Available\n"
     ]
    },
    {
     "data": {
      "image/png": "[encoded data removed]",
      "text/plain": [
       "<Figure size 432x288 with 1 Axes>"
      ]
     },
     "metadata": {
      "needs_background": "light"
     },
     "output_type": "display_data"
    }
   ],
   "source": [
    "user_2 = df2.sample(n=1,random_state=1)\n",
    "predict(user_2)"
   ]
  },
  {
   "cell_type": "code",
   "execution_count": 580,
   "metadata": {},
   "outputs": [
    {
     "data": {
      "text/html": [
       "<div>\n",
       "<style scoped>\n",
       "    .dataframe tbody tr th:only-of-type {\n",
       "        vertical-align: middle;\n",
       "    }\n",
       "\n",
       "    .dataframe tbody tr th {\n",
       "        vertical-align: top;\n",
       "    }\n",
       "\n",
       "    .dataframe thead th {\n",
       "        text-align: right;\n",
       "    }\n",
       "</style>\n",
       "<table border=\"1\" class=\"dataframe\">\n",
       "  <thead>\n",
       "    <tr style=\"text-align: right;\">\n",
       "      <th></th>\n",
       "      <th>loan_amnt</th>\n",
       "      <th>title</th>\n",
       "      <th>dti</th>\n",
       "      <th>zip_code</th>\n",
       "      <th>emp_length</th>\n",
       "      <th>risk_score</th>\n",
       "    </tr>\n",
       "  </thead>\n",
       "  <tbody>\n",
       "    <tr>\n",
       "      <th>7178966</th>\n",
       "      <td>18000</td>\n",
       "      <td>0.0</td>\n",
       "      <td>18.5</td>\n",
       "      <td>60</td>\n",
       "      <td>0.5</td>\n",
       "      <td>683.0</td>\n",
       "    </tr>\n",
       "  </tbody>\n",
       "</table>\n",
       "</div>"
      ],
      "text/plain": [
       "         loan_amnt  title   dti  zip_code  emp_length  risk_score\n",
       "7178966      18000    0.0  18.5        60         0.5       683.0"
      ]
     },
     "metadata": {},
     "output_type": "display_data"
    },
    {
     "name": "stdout",
     "output_type": "stream",
     "text": [
      "Minimum Loan: $10000\n"
     ]
    },
    {
     "data": {
      "image/png": "[encoded data removed]",
      "text/plain": [
       "<Figure size 432x288 with 1 Axes>"
      ]
     },
     "metadata": {
      "needs_background": "light"
     },
     "output_type": "display_data"
    }
   ],
   "source": [
    "user_3 = df2.sample(n=1,random_state=15)\n",
    "predict(user_3)"
   ]
  },
  {
   "cell_type": "code",
   "execution_count": 581,
   "metadata": {
    "scrolled": false
   },
   "outputs": [
    {
     "data": {
      "text/html": [
       "<div>\n",
       "<style scoped>\n",
       "    .dataframe tbody tr th:only-of-type {\n",
       "        vertical-align: middle;\n",
       "    }\n",
       "\n",
       "    .dataframe tbody tr th {\n",
       "        vertical-align: top;\n",
       "    }\n",
       "\n",
       "    .dataframe thead th {\n",
       "        text-align: right;\n",
       "    }\n",
       "</style>\n",
       "<table border=\"1\" class=\"dataframe\">\n",
       "  <thead>\n",
       "    <tr style=\"text-align: right;\">\n",
       "      <th></th>\n",
       "      <th>loan_amnt</th>\n",
       "      <th>title</th>\n",
       "      <th>dti</th>\n",
       "      <th>zip_code</th>\n",
       "      <th>emp_length</th>\n",
       "      <th>risk_score</th>\n",
       "    </tr>\n",
       "  </thead>\n",
       "  <tbody>\n",
       "    <tr>\n",
       "      <th>913297</th>\n",
       "      <td>9800</td>\n",
       "      <td>0.0</td>\n",
       "      <td>29.51</td>\n",
       "      <td>750</td>\n",
       "      <td>4.0</td>\n",
       "      <td>662.0</td>\n",
       "    </tr>\n",
       "  </tbody>\n",
       "</table>\n",
       "</div>"
      ],
      "text/plain": [
       "        loan_amnt  title    dti  zip_code  emp_length  risk_score\n",
       "913297       9800    0.0  29.51       750         4.0       662.0"
      ]
     },
     "metadata": {},
     "output_type": "display_data"
    },
    {
     "name": "stdout",
     "output_type": "stream",
     "text": [
      "No Maximum/Minimum\n"
     ]
    },
    {
     "data": {
      "image/png": "[encoded data removed]",
      "text/plain": [
       "<Figure size 432x288 with 1 Axes>"
      ]
     },
     "metadata": {
      "needs_background": "light"
     },
     "output_type": "display_data"
    },
    {
     "data": {
      "text/html": [
       "<div>\n",
       "<style scoped>\n",
       "    .dataframe tbody tr th:only-of-type {\n",
       "        vertical-align: middle;\n",
       "    }\n",
       "\n",
       "    .dataframe tbody tr th {\n",
       "        vertical-align: top;\n",
       "    }\n",
       "\n",
       "    .dataframe thead th {\n",
       "        text-align: right;\n",
       "    }\n",
       "</style>\n",
       "<table border=\"1\" class=\"dataframe\">\n",
       "  <thead>\n",
       "    <tr style=\"text-align: right;\">\n",
       "      <th></th>\n",
       "      <th>loan_amnt</th>\n",
       "      <th>title</th>\n",
       "      <th>dti</th>\n",
       "      <th>zip_code</th>\n",
       "      <th>emp_length</th>\n",
       "      <th>risk_score</th>\n",
       "    </tr>\n",
       "  </thead>\n",
       "  <tbody>\n",
       "    <tr>\n",
       "      <th>10517390</th>\n",
       "      <td>11000</td>\n",
       "      <td>0.0</td>\n",
       "      <td>71.53</td>\n",
       "      <td>296</td>\n",
       "      <td>0.5</td>\n",
       "      <td>705.0</td>\n",
       "    </tr>\n",
       "  </tbody>\n",
       "</table>\n",
       "</div>"
      ],
      "text/plain": [
       "          loan_amnt  title    dti  zip_code  emp_length  risk_score\n",
       "10517390      11000    0.0  71.53       296         0.5       705.0"
      ]
     },
     "metadata": {},
     "output_type": "display_data"
    },
    {
     "name": "stdout",
     "output_type": "stream",
     "text": [
      "Loan Not Available\n"
     ]
    },
    {
     "data": {
      "image/png": "[encoded data removed]",
      "text/plain": [
       "<Figure size 432x288 with 1 Axes>"
      ]
     },
     "metadata": {
      "needs_background": "light"
     },
     "output_type": "display_data"
    },
    {
     "data": {
      "text/html": [
       "<div>\n",
       "<style scoped>\n",
       "    .dataframe tbody tr th:only-of-type {\n",
       "        vertical-align: middle;\n",
       "    }\n",
       "\n",
       "    .dataframe tbody tr th {\n",
       "        vertical-align: top;\n",
       "    }\n",
       "\n",
       "    .dataframe thead th {\n",
       "        text-align: right;\n",
       "    }\n",
       "</style>\n",
       "<table border=\"1\" class=\"dataframe\">\n",
       "  <thead>\n",
       "    <tr style=\"text-align: right;\">\n",
       "      <th></th>\n",
       "      <th>loan_amnt</th>\n",
       "      <th>title</th>\n",
       "      <th>dti</th>\n",
       "      <th>zip_code</th>\n",
       "      <th>emp_length</th>\n",
       "      <th>risk_score</th>\n",
       "    </tr>\n",
       "  </thead>\n",
       "  <tbody>\n",
       "    <tr>\n",
       "      <th>3597071</th>\n",
       "      <td>5000</td>\n",
       "      <td>1.0</td>\n",
       "      <td>43.16</td>\n",
       "      <td>841</td>\n",
       "      <td>0.5</td>\n",
       "      <td>677.0</td>\n",
       "    </tr>\n",
       "  </tbody>\n",
       "</table>\n",
       "</div>"
      ],
      "text/plain": [
       "         loan_amnt  title    dti  zip_code  emp_length  risk_score\n",
       "3597071       5000    1.0  43.16       841         0.5       677.0"
      ]
     },
     "metadata": {},
     "output_type": "display_data"
    },
    {
     "name": "stdout",
     "output_type": "stream",
     "text": [
      "Loan Not Available\n"
     ]
    },
    {
     "data": {
      "image/png": "[encoded data removed]",
      "text/plain": [
       "<Figure size 432x288 with 1 Axes>"
      ]
     },
     "metadata": {
      "needs_background": "light"
     },
     "output_type": "display_data"
    },
    {
     "data": {
      "text/html": [
       "<div>\n",
       "<style scoped>\n",
       "    .dataframe tbody tr th:only-of-type {\n",
       "        vertical-align: middle;\n",
       "    }\n",
       "\n",
       "    .dataframe tbody tr th {\n",
       "        vertical-align: top;\n",
       "    }\n",
       "\n",
       "    .dataframe thead th {\n",
       "        text-align: right;\n",
       "    }\n",
       "</style>\n",
       "<table border=\"1\" class=\"dataframe\">\n",
       "  <thead>\n",
       "    <tr style=\"text-align: right;\">\n",
       "      <th></th>\n",
       "      <th>loan_amnt</th>\n",
       "      <th>title</th>\n",
       "      <th>dti</th>\n",
       "      <th>zip_code</th>\n",
       "      <th>emp_length</th>\n",
       "      <th>risk_score</th>\n",
       "    </tr>\n",
       "  </thead>\n",
       "  <tbody>\n",
       "    <tr>\n",
       "      <th>10122764</th>\n",
       "      <td>6000</td>\n",
       "      <td>6.0</td>\n",
       "      <td>3.07</td>\n",
       "      <td>33</td>\n",
       "      <td>0.5</td>\n",
       "      <td>684.0</td>\n",
       "    </tr>\n",
       "  </tbody>\n",
       "</table>\n",
       "</div>"
      ],
      "text/plain": [
       "          loan_amnt  title   dti  zip_code  emp_length  risk_score\n",
       "10122764       6000    6.0  3.07        33         0.5       684.0"
      ]
     },
     "metadata": {},
     "output_type": "display_data"
    },
    {
     "name": "stdout",
     "output_type": "stream",
     "text": [
      "Minimum Loan: $8000\n"
     ]
    },
    {
     "data": {
      "image/png": "[encoded data removed]",
      "text/plain": [
       "<Figure size 432x288 with 1 Axes>"
      ]
     },
     "metadata": {
      "needs_background": "light"
     },
     "output_type": "display_data"
    },
    {
     "data": {
      "text/html": [
       "<div>\n",
       "<style scoped>\n",
       "    .dataframe tbody tr th:only-of-type {\n",
       "        vertical-align: middle;\n",
       "    }\n",
       "\n",
       "    .dataframe tbody tr th {\n",
       "        vertical-align: top;\n",
       "    }\n",
       "\n",
       "    .dataframe thead th {\n",
       "        text-align: right;\n",
       "    }\n",
       "</style>\n",
       "<table border=\"1\" class=\"dataframe\">\n",
       "  <thead>\n",
       "    <tr style=\"text-align: right;\">\n",
       "      <th></th>\n",
       "      <th>loan_amnt</th>\n",
       "      <th>title</th>\n",
       "      <th>dti</th>\n",
       "      <th>zip_code</th>\n",
       "      <th>emp_length</th>\n",
       "      <th>risk_score</th>\n",
       "    </tr>\n",
       "  </thead>\n",
       "  <tbody>\n",
       "    <tr>\n",
       "      <th>9666885</th>\n",
       "      <td>7000</td>\n",
       "      <td>1.0</td>\n",
       "      <td>34.43</td>\n",
       "      <td>70</td>\n",
       "      <td>1.0</td>\n",
       "      <td>667.0</td>\n",
       "    </tr>\n",
       "  </tbody>\n",
       "</table>\n",
       "</div>"
      ],
      "text/plain": [
       "         loan_amnt  title    dti  zip_code  emp_length  risk_score\n",
       "9666885       7000    1.0  34.43        70         1.0       667.0"
      ]
     },
     "metadata": {},
     "output_type": "display_data"
    },
    {
     "name": "stdout",
     "output_type": "stream",
     "text": [
      "Loan Not Available\n"
     ]
    },
    {
     "data": {
      "image/png": "[encoded data removed]",
      "text/plain": [
       "<Figure size 432x288 with 1 Axes>"
      ]
     },
     "metadata": {
      "needs_background": "light"
     },
     "output_type": "display_data"
    }
   ],
   "source": [
    "# run more tests\n",
    "for i in range(5): \n",
    "    predict(df2.sample(n=1))"
   ]
  },
  {
   "cell_type": "code",
   "execution_count": null,
   "metadata": {},
   "outputs": [],
   "source": []
  }
 ],
 "metadata": {
  "kernelspec": {
   "display_name": "Python 3",
   "language": "python",
   "name": "python3"
  },
  "language_info": {
   "codemirror_mode": {
    "name": "ipython",
    "version": 3
   },
   "file_extension": ".py",
   "mimetype": "text/x-python",
   "name": "python",
   "nbconvert_exporter": "python",
   "pygments_lexer": "ipython3",
   "version": "3.7.6"
  }
 },
 "nbformat": 4,
 "nbformat_minor": 4
}
