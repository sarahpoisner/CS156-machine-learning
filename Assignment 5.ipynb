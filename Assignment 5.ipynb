{
 "cells": [
  {
   "cell_type": "markdown",
   "metadata": {},
   "source": [
    "# Assignment 5\n",
    "## Machine Learning Fashionista 2.0\n",
    "### Import & Format Data\n",
    "First, I formatted the images using code from the `load_images.py` file given in the Session 7 Pre-Class Work."
   ]
  },
  {
   "cell_type": "code",
   "execution_count": 1,
   "metadata": {},
   "outputs": [],
   "source": [
    "from glob import glob\n",
    "from PIL import Image\n",
    "from resizeimage import resizeimage\n",
    "import numpy as np\n",
    "import matplotlib.pyplot as plt\n",
    "import pandas as pd"
   ]
  },
  {
   "cell_type": "code",
   "execution_count": 2,
   "metadata": {},
   "outputs": [],
   "source": [
    "# resize and crop images\n",
    "\n",
    "def resize_images(images):\n",
    "    '''\n",
    "    Resizes and crops images using the function given\n",
    "    in the Session 7 repo from load_images.py.\n",
    "    '''    \n",
    "\n",
    "    flattened = []\n",
    "    # for each image path\n",
    "    for path in images:\n",
    "        # open it as a read file in binary mode\n",
    "        with open(path, 'r+b') as f:\n",
    "            # open it as an image\n",
    "            with Image.open(f) as image:\n",
    "                # resize the image to be more manageable\n",
    "                cover = resizeimage.resize_cover(image, [64, 64])\n",
    "                # flatten the matrix to an array and \n",
    "                # append it to all flattened images\n",
    "                flattened.append((np.array(cover).flatten(), 0))\n",
    "\n",
    "\n",
    "    # Flatten it once more\n",
    "    flattened = np.asarray(flattened)\n",
    "\n",
    "    # Declare which are the X and Y inputs\n",
    "    X = flattened[:,0]\n",
    "    Y = flattened[:,1]\n",
    "\n",
    "    # Use np.stack to put the data into the right dimension\n",
    "    X = np.stack(i for i in X)\n",
    "    Y = np.stack(i for i in Y)\n",
    "    \n",
    "    # return resized images\n",
    "    return X, Y"
   ]
  },
  {
   "cell_type": "code",
   "execution_count": 3,
   "metadata": {},
   "outputs": [
    {
     "name": "stderr",
     "output_type": "stream",
     "text": [
      "/Users/sarahpoisner/opt/anaconda3/lib/python3.7/site-packages/ipykernel_launcher.py:24: VisibleDeprecationWarning: Creating an ndarray from ragged nested sequences (which is a list-or-tuple of lists-or-tuples-or ndarrays with different lengths or shapes) is deprecated. If you meant to do this, you must specify 'dtype=object' when creating the ndarray.\n",
      "/Users/sarahpoisner/opt/anaconda3/lib/python3.7/site-packages/IPython/core/interactiveshell.py:3331: FutureWarning: arrays to stack must be passed as a \"sequence\" type such as list or tuple. Support for non-sequence iterables such as generators is deprecated as of NumPy 1.16 and will raise an error in the future.\n",
      "  exec(code_obj, self.user_global_ns, self.user_ns)\n"
     ]
    }
   ],
   "source": [
    "# import and resize images\n",
    "\n",
    "shirts = glob('clothing/shirts/*')\n",
    "jerseys = glob('clothing/jerseys/*')\n",
    "\n",
    "shirts_img = resize_images(shirts)[0]\n",
    "jerseys_img = resize_images(jerseys)[0]"
   ]
  },
  {
   "cell_type": "code",
   "execution_count": 4,
   "metadata": {},
   "outputs": [
    {
     "name": "stdout",
     "output_type": "stream",
     "text": [
      "(2791, 12289)\n"
     ]
    }
   ],
   "source": [
    "# assign binary classifications\n",
    "shirt = np.zeros((len(shirts_img), 1)) # shirt = 0\n",
    "jersey = np.ones((len(jerseys_img), 1)) # jersey = 1\n",
    "\n",
    "# append binary classifications to images\n",
    "shirt_data = np.append(shirts_img, shirt, axis=1)\n",
    "jersey_data = np.append(jerseys_img, jersey, axis=1)\n",
    "\n",
    "# combine shirt and jersey data into one dataset\n",
    "data = np.concatenate((shirt_data, jersey_data))\n",
    "print(data.shape)\n",
    "\n",
    "# create dataframe\n",
    "df = pd.DataFrame(data)\n",
    "df = df.rename(columns={df.columns[-1]: 'Type'})"
   ]
  },
  {
   "cell_type": "markdown",
   "metadata": {},
   "source": [
    "### Support Vector Machines (SVM)\n",
    "First, I split the dataset into 80% training data and 20% testing data."
   ]
  },
  {
   "cell_type": "code",
   "execution_count": 5,
   "metadata": {},
   "outputs": [],
   "source": [
    "from sklearn.model_selection import train_test_split\n",
    "from sklearn import svm\n",
    "from sklearn.metrics.pairwise import linear_kernel, \\\n",
    "polynomial_kernel, rbf_kernel\n",
    "from sklearn.metrics import classification_report, plot_confusion_matrix, \\\n",
    "accuracy_score"
   ]
  },
  {
   "cell_type": "code",
   "execution_count": 6,
   "metadata": {},
   "outputs": [],
   "source": [
    "# use all but 'Type' as independent variables\n",
    "X = df.drop(columns='Type')\n",
    "\n",
    "# use 'Type' as dependent variable\n",
    "y = df['Type']\n",
    "\n",
    "# split into train and test data\n",
    "X_train, X_test, y_train, y_test = \\\n",
    "train_test_split(X, y, test_size = 0.2, random_state=0)"
   ]
  },
  {
   "cell_type": "markdown",
   "metadata": {},
   "source": [
    "#### Linear SVM Model\n",
    "I generated an SVM classification model using a linear kernel."
   ]
  },
  {
   "cell_type": "code",
   "execution_count": 7,
   "metadata": {},
   "outputs": [],
   "source": [
    "# create the classifier\n",
    "svm_linear = svm.SVC(kernel='linear')\n",
    "\n",
    "# fit the classifier to the training data\n",
    "svm_linear.fit(X_train,y_train)\n",
    "\n",
    "# predict the labels of the test set\n",
    "y_pred_linear = svm_linear.predict(X_test)"
   ]
  },
  {
   "cell_type": "code",
   "execution_count": 8,
   "metadata": {},
   "outputs": [
    {
     "name": "stdout",
     "output_type": "stream",
     "text": [
      "Classification Report:\n",
      "              precision    recall  f1-score   support\n",
      "\n",
      "         0.0       0.60      0.63      0.61       307\n",
      "         1.0       0.52      0.48      0.49       252\n",
      "\n",
      "    accuracy                           0.56       559\n",
      "   macro avg       0.56      0.55      0.55       559\n",
      "weighted avg       0.56      0.56      0.56       559\n",
      "\n",
      "Accuracy Score (Train): 0.975\n",
      "Accuracy Score (Test): 0.562\n",
      "Error Rate (Train): 0.025000000000000022\n",
      "Error Rate (Test): 0.43799999999999994\n"
     ]
    }
   ],
   "source": [
    "# compute and print the classification report\n",
    "print('Classification Report:')\n",
    "print(classification_report(y_test, y_pred_linear))\n",
    "\n",
    "# ccompute and print accuracy scores and error rates\n",
    "score_train_linear = np.round(svm_linear.score(X_train, y_train),3)\n",
    "score_test_linear = np.round(svm_linear.score(X_test, y_test),3)\n",
    "\n",
    "print(f'Accuracy Score (Train): {score_train_linear}')\n",
    "print(f'Accuracy Score (Test): {score_test_linear}')\n",
    "print(f'Error Rate (Train): {1-score_train_linear}')\n",
    "print(f'Error Rate (Test): {1-score_test_linear}')"
   ]
  },
  {
   "cell_type": "markdown",
   "metadata": {},
   "source": [
    "#### Polynomial SVM Model\n",
    "I generated an SVM classification model using a polynomial kernel with 2 degrees."
   ]
  },
  {
   "cell_type": "code",
   "execution_count": 9,
   "metadata": {},
   "outputs": [],
   "source": [
    "# create the classifier\n",
    "svm_poly = svm.SVC(kernel='poly', degree=2)\n",
    "\n",
    "# fit the classifier to the training data\n",
    "svm_poly.fit(X_train,y_train)\n",
    "\n",
    "# predict the labels of the test set\n",
    "y_pred_poly = svm_poly.predict(X_test)"
   ]
  },
  {
   "cell_type": "code",
   "execution_count": 10,
   "metadata": {},
   "outputs": [
    {
     "name": "stdout",
     "output_type": "stream",
     "text": [
      "Classification Report:\n",
      "              precision    recall  f1-score   support\n",
      "\n",
      "         0.0       0.64      0.69      0.66       307\n",
      "         1.0       0.58      0.52      0.55       252\n",
      "\n",
      "    accuracy                           0.61       559\n",
      "   macro avg       0.61      0.61      0.61       559\n",
      "weighted avg       0.61      0.61      0.61       559\n",
      "\n",
      "Accuracy Score (Train): 0.881\n",
      "Accuracy Score (Test): 0.614\n",
      "Error Rate (Train): 0.119\n",
      "Error Rate (Test): 0.386\n"
     ]
    }
   ],
   "source": [
    "# compute and print the classification report\n",
    "print('Classification Report:')\n",
    "print(classification_report(y_test, y_pred_poly))\n",
    "\n",
    "# ccompute and print accuracy scores and error rates\n",
    "score_train_poly = np.round(svm_poly.score(X_train, y_train),3)\n",
    "score_test_poly = np.round(svm_poly.score(X_test, y_test),3)\n",
    "\n",
    "print(f'Accuracy Score (Train): {score_train_poly}')\n",
    "print(f'Accuracy Score (Test): {score_test_poly}')\n",
    "print(f'Error Rate (Train): {1-score_train_poly}')\n",
    "print(f'Error Rate (Test): {1-score_test_poly}')"
   ]
  },
  {
   "cell_type": "markdown",
   "metadata": {},
   "source": [
    "#### RBF SVM Model\n",
    "I generated an SVM classification model using an RBF (Radial Basis Function) kernel."
   ]
  },
  {
   "cell_type": "code",
   "execution_count": 11,
   "metadata": {},
   "outputs": [],
   "source": [
    "# create the classifier\n",
    "svm_rbf = svm.SVC(kernel='rbf')\n",
    "\n",
    "# fit the classifier to the training data\n",
    "svm_rbf.fit(X_train,y_train)\n",
    "\n",
    "# predict the labels of the test set\n",
    "y_pred_rbf = svm_rbf.predict(X_test)"
   ]
  },
  {
   "cell_type": "code",
   "execution_count": 12,
   "metadata": {},
   "outputs": [
    {
     "name": "stdout",
     "output_type": "stream",
     "text": [
      "Classification Report:\n",
      "              precision    recall  f1-score   support\n",
      "\n",
      "         0.0       0.68      0.73      0.70       307\n",
      "         1.0       0.63      0.58      0.60       252\n",
      "\n",
      "    accuracy                           0.66       559\n",
      "   macro avg       0.65      0.65      0.65       559\n",
      "weighted avg       0.66      0.66      0.66       559\n",
      "\n",
      "Accuracy Score (Train): 0.823\n",
      "Accuracy Score (Test): 0.658\n",
      "Error Rate (Train): 0.17700000000000005\n",
      "Error Rate (Test): 0.34199999999999997\n"
     ]
    }
   ],
   "source": [
    "# compute and print the classification report\n",
    "print('Classification Report:')\n",
    "print(classification_report(y_test, y_pred_rbf))\n",
    "\n",
    "# ccompute and print accuracy scores and error rates\n",
    "score_train_rbf = np.round(svm_rbf.score(X_train, y_train),3)\n",
    "score_test_rbf = np.round(svm_rbf.score(X_test, y_test),3)\n",
    "\n",
    "print(f'Accuracy Score (Train): {score_train_rbf}')\n",
    "print(f'Accuracy Score (Test): {score_test_rbf}')\n",
    "print(f'Error Rate (Train): {1-score_train_rbf}')\n",
    "print(f'Error Rate (Test): {1-score_test_rbf}')"
   ]
  },
  {
   "cell_type": "markdown",
   "metadata": {},
   "source": [
    "### Deep Neural Networks\n",
    "\n",
    "I created an neural network model using an the VGG16 neural network model. This model has 16 layers. The first 13 layers are convolutional with 3 dense layers at the end. This network was trained on an image database called ImageNet, which categorizes images. \n",
    "\n",
    "During training, the last layer is adjusted according to the error gradient. For every other layer, we can solve for the derivative of the weights with respect to the error on the last layer using the chain rule."
   ]
  },
  {
   "cell_type": "code",
   "execution_count": 59,
   "metadata": {},
   "outputs": [],
   "source": [
    "from tensorflow.keras.applications.vgg16 import VGG16\n",
    "from tensorflow.keras.preprocessing import image\n",
    "from keras.preprocessing.image import ImageDataGenerator\n",
    "from tensorflow.keras.applications.vgg16 import preprocess_input, \\\n",
    "decode_predictions\n",
    "from tensorflow.keras.applications.resnet50 import ResNet50\n",
    "from tensorflow.keras import layers, models\n",
    "from keras.layers import Dense, Conv2D, MaxPool2D, Flatten"
   ]
  },
  {
   "cell_type": "markdown",
   "metadata": {},
   "source": [
    "#### Split Data"
   ]
  },
  {
   "cell_type": "code",
   "execution_count": 14,
   "metadata": {},
   "outputs": [
    {
     "name": "stdout",
     "output_type": "stream",
     "text": [
      "Found 2233 images belonging to 2 classes.\n",
      "Found 558 images belonging to 2 classes.\n"
     ]
    }
   ],
   "source": [
    "# split data into 80% training, 20% validating data\n",
    "img_data = ImageDataGenerator(rescale=1./255, validation_split=0.2)\n",
    "\n",
    "# use path containing folders 'shirts' and 'jerseys' images\n",
    "path = 'clothing'\n",
    "train = img_data.flow_from_directory(path, class_mode=\"binary\", \n",
    "                                    target_size=(224,224), \n",
    "                                    subset=\"training\")\n",
    "test = img_data.flow_from_directory(path, class_mode=\"binary\", \n",
    "                                   target_size=(224,224), \n",
    "                                   subset=\"validation\")"
   ]
  },
  {
   "cell_type": "markdown",
   "metadata": {},
   "source": [
    "#### Define Model"
   ]
  },
  {
   "cell_type": "code",
   "execution_count": 15,
   "metadata": {
    "scrolled": false
   },
   "outputs": [
    {
     "name": "stdout",
     "output_type": "stream",
     "text": [
      "Model: \"vgg16\"\n",
      "_________________________________________________________________\n",
      " Layer (type)                Output Shape              Param #   \n",
      "=================================================================\n",
      " input_1 (InputLayer)        [(None, 224, 224, 3)]     0         \n",
      "                                                                 \n",
      " block1_conv1 (Conv2D)       (None, 224, 224, 64)      1792      \n",
      "                                                                 \n",
      " block1_conv2 (Conv2D)       (None, 224, 224, 64)      36928     \n",
      "                                                                 \n",
      " block1_pool (MaxPooling2D)  (None, 112, 112, 64)      0         \n",
      "                                                                 \n",
      " block2_conv1 (Conv2D)       (None, 112, 112, 128)     73856     \n",
      "                                                                 \n",
      " block2_conv2 (Conv2D)       (None, 112, 112, 128)     147584    \n",
      "                                                                 \n",
      " block2_pool (MaxPooling2D)  (None, 56, 56, 128)       0         \n",
      "                                                                 \n",
      " block3_conv1 (Conv2D)       (None, 56, 56, 256)       295168    \n",
      "                                                                 \n",
      " block3_conv2 (Conv2D)       (None, 56, 56, 256)       590080    \n",
      "                                                                 \n",
      " block3_conv3 (Conv2D)       (None, 56, 56, 256)       590080    \n",
      "                                                                 \n",
      " block3_pool (MaxPooling2D)  (None, 28, 28, 256)       0         \n",
      "                                                                 \n",
      " block4_conv1 (Conv2D)       (None, 28, 28, 512)       1180160   \n",
      "                                                                 \n",
      " block4_conv2 (Conv2D)       (None, 28, 28, 512)       2359808   \n",
      "                                                                 \n",
      " block4_conv3 (Conv2D)       (None, 28, 28, 512)       2359808   \n",
      "                                                                 \n",
      " block4_pool (MaxPooling2D)  (None, 14, 14, 512)       0         \n",
      "                                                                 \n",
      " block5_conv1 (Conv2D)       (None, 14, 14, 512)       2359808   \n",
      "                                                                 \n",
      " block5_conv2 (Conv2D)       (None, 14, 14, 512)       2359808   \n",
      "                                                                 \n",
      " block5_conv3 (Conv2D)       (None, 14, 14, 512)       2359808   \n",
      "                                                                 \n",
      " block5_pool (MaxPooling2D)  (None, 7, 7, 512)         0         \n",
      "                                                                 \n",
      "=================================================================\n",
      "Total params: 14,714,688\n",
      "Trainable params: 0\n",
      "Non-trainable params: 14,714,688\n",
      "_________________________________________________________________\n"
     ]
    }
   ],
   "source": [
    "# define VGG16 model\n",
    "VGG16_model = VGG16(include_top=False, weights='imagenet', \n",
    "                    input_shape=(224,224,3))\n",
    "VGG16_model.trainable = False\n",
    "VGG16_model.summary()"
   ]
  },
  {
   "cell_type": "code",
   "execution_count": 16,
   "metadata": {},
   "outputs": [
    {
     "name": "stdout",
     "output_type": "stream",
     "text": [
      "Model: \"sequential\"\n",
      "_________________________________________________________________\n",
      " Layer (type)                Output Shape              Param #   \n",
      "=================================================================\n",
      " vgg16 (Functional)          (None, 7, 7, 512)         14714688  \n",
      "                                                                 \n",
      " flatten (Flatten)           (None, 25088)             0         \n",
      "                                                                 \n",
      " dense (Dense)               (None, 1)                 25089     \n",
      "                                                                 \n",
      "=================================================================\n",
      "Total params: 14,739,777\n",
      "Trainable params: 25,089\n",
      "Non-trainable params: 14,714,688\n",
      "_________________________________________________________________\n"
     ]
    }
   ],
   "source": [
    "# add prediciton dense layer with sigmoid activation function\n",
    "flattened_layers = layers.Flatten()\n",
    "prediction_layer = layers.Dense(1, activation='sigmoid')\n",
    "\n",
    "# define final model\n",
    "model = models.Sequential([VGG16_model, flattened_layers, prediction_layer])\n",
    "model.summary()"
   ]
  },
  {
   "cell_type": "markdown",
   "metadata": {},
   "source": [
    "#### Compile Model\n",
    "I compiled the model using the binary cross entropy loss function because there are two possible classes (binary variables): shirt or jersey. Binary crosss entropy compares actual class 0 or 1 to the the predicted probabilites and minimizes the error."
   ]
  },
  {
   "cell_type": "code",
   "execution_count": 17,
   "metadata": {},
   "outputs": [],
   "source": [
    "# compile model\n",
    "model.compile(optimizer=\"adam\", loss=\"binary_crossentropy\", \n",
    "              metrics=[\"accuracy\"])"
   ]
  },
  {
   "cell_type": "markdown",
   "metadata": {},
   "source": [
    "#### Fit Model"
   ]
  },
  {
   "cell_type": "code",
   "execution_count": 18,
   "metadata": {},
   "outputs": [
    {
     "name": "stdout",
     "output_type": "stream",
     "text": [
      "Epoch 1/15\n",
      "70/70 [==============================] - 328s 5s/step - loss: 0.6081 - accuracy: 0.6803 - val_loss: 0.5687 - val_accuracy: 0.7133\n",
      "Epoch 2/15\n",
      "70/70 [==============================] - 334s 5s/step - loss: 0.4253 - accuracy: 0.7949 - val_loss: 0.4406 - val_accuracy: 0.7993\n",
      "Epoch 3/15\n",
      "70/70 [==============================] - 342s 5s/step - loss: 0.3199 - accuracy: 0.8733 - val_loss: 0.4766 - val_accuracy: 0.7616\n",
      "Epoch 4/15\n",
      "70/70 [==============================] - 343s 5s/step - loss: 0.3156 - accuracy: 0.8692 - val_loss: 0.4842 - val_accuracy: 0.8136\n",
      "Epoch 5/15\n",
      "70/70 [==============================] - 1120s 16s/step - loss: 0.2502 - accuracy: 0.9073 - val_loss: 0.6172 - val_accuracy: 0.6953\n",
      "Epoch 6/15\n",
      "70/70 [==============================] - 2469s 35s/step - loss: 0.2134 - accuracy: 0.9239 - val_loss: 0.5673 - val_accuracy: 0.7366\n",
      "Epoch 7/15\n",
      "70/70 [==============================] - 419s 6s/step - loss: 0.1954 - accuracy: 0.9355 - val_loss: 0.5130 - val_accuracy: 0.7903\n",
      "Epoch 8/15\n",
      "70/70 [==============================] - 322s 5s/step - loss: 0.1780 - accuracy: 0.9427 - val_loss: 0.5352 - val_accuracy: 0.7814\n",
      "Epoch 9/15\n",
      "70/70 [==============================] - 323s 5s/step - loss: 0.1710 - accuracy: 0.9404 - val_loss: 0.5830 - val_accuracy: 0.7455\n",
      "Epoch 10/15\n",
      "70/70 [==============================] - 321s 5s/step - loss: 0.1491 - accuracy: 0.9512 - val_loss: 0.5669 - val_accuracy: 0.7455\n",
      "Epoch 11/15\n",
      "70/70 [==============================] - 323s 5s/step - loss: 0.1374 - accuracy: 0.9534 - val_loss: 0.6238 - val_accuracy: 0.7258\n",
      "Epoch 12/15\n",
      "70/70 [==============================] - 324s 5s/step - loss: 0.1336 - accuracy: 0.9539 - val_loss: 0.5955 - val_accuracy: 0.7634\n",
      "Epoch 13/15\n",
      "70/70 [==============================] - 324s 5s/step - loss: 0.1299 - accuracy: 0.9503 - val_loss: 0.7428 - val_accuracy: 0.6989\n",
      "Epoch 14/15\n",
      "70/70 [==============================] - 328s 5s/step - loss: 0.1268 - accuracy: 0.9516 - val_loss: 0.6368 - val_accuracy: 0.7419\n",
      "Epoch 15/15\n",
      "70/70 [==============================] - 325s 5s/step - loss: 0.1254 - accuracy: 0.9530 - val_loss: 0.6182 - val_accuracy: 0.7455\n"
     ]
    }
   ],
   "source": [
    "# fit model\n",
    "history = model.fit(train, validation_data=test, epochs=15)"
   ]
  },
  {
   "cell_type": "code",
   "execution_count": 60,
   "metadata": {},
   "outputs": [
    {
     "data": {
      "image/png": "[encoded data removed]",
      "text/plain": [
       "<Figure size 576x432 with 1 Axes>"
      ]
     },
     "metadata": {
      "needs_background": "light"
     },
     "output_type": "display_data"
    }
   ],
   "source": [
    "plt.figure(figsize=(8,6))\n",
    "\n",
    "# plot metrics over epochs\n",
    "plt.plot(history.history['accuracy'], color='teal')\n",
    "plt.plot(history.history['val_accuracy'], color='lightcoral')\n",
    "plt.plot(history.history['val_loss'], color='peachpuff')\n",
    "plt.plot(history.history['loss'], color='orchid')\n",
    "\n",
    "\n",
    "plt.title('Model Metrics')\n",
    "plt.xlabel('Epoch')\n",
    "plt.ylabel('Metric Value')\n",
    "plt.legend(['Accuracy','Validation Accuracy','Validation Loss', 'Loss'])\n",
    "\n",
    "plt.show()"
   ]
  },
  {
   "cell_type": "code",
   "execution_count": 52,
   "metadata": {},
   "outputs": [
    {
     "name": "stdout",
     "output_type": "stream",
     "text": [
      "Accuracy Score: 0.953\n",
      "Error Rate: 0.04700000000000004\n"
     ]
    }
   ],
   "source": [
    "score_neural = np.round(history.history['accuracy'][-1],3)\n",
    "\n",
    "print(f'Accuracy Score: {score_neural}')\n",
    "print(f'Error Rate: {1-score_neural}')"
   ]
  },
  {
   "cell_type": "markdown",
   "metadata": {},
   "source": [
    "### Comparison"
   ]
  },
  {
   "cell_type": "code",
   "execution_count": 53,
   "metadata": {},
   "outputs": [
    {
     "data": {
      "text/html": [
       "<div>\n",
       "<style scoped>\n",
       "    .dataframe tbody tr th:only-of-type {\n",
       "        vertical-align: middle;\n",
       "    }\n",
       "\n",
       "    .dataframe tbody tr th {\n",
       "        vertical-align: top;\n",
       "    }\n",
       "\n",
       "    .dataframe thead th {\n",
       "        text-align: right;\n",
       "    }\n",
       "</style>\n",
       "<table border=\"1\" class=\"dataframe\">\n",
       "  <thead>\n",
       "    <tr style=\"text-align: right;\">\n",
       "      <th></th>\n",
       "      <th>Model</th>\n",
       "      <th>Training Error</th>\n",
       "      <th>Testing Error</th>\n",
       "    </tr>\n",
       "  </thead>\n",
       "  <tbody>\n",
       "    <tr>\n",
       "      <th>0</th>\n",
       "      <td>Linear SVM</td>\n",
       "      <td>0.025</td>\n",
       "      <td>0.438</td>\n",
       "    </tr>\n",
       "    <tr>\n",
       "      <th>1</th>\n",
       "      <td>Poly SVM</td>\n",
       "      <td>0.119</td>\n",
       "      <td>0.386</td>\n",
       "    </tr>\n",
       "    <tr>\n",
       "      <th>2</th>\n",
       "      <td>RBF SVM</td>\n",
       "      <td>0.177</td>\n",
       "      <td>0.342</td>\n",
       "    </tr>\n",
       "    <tr>\n",
       "      <th>3</th>\n",
       "      <td>VGG16</td>\n",
       "      <td>0.047</td>\n",
       "      <td>0.047</td>\n",
       "    </tr>\n",
       "  </tbody>\n",
       "</table>\n",
       "</div>"
      ],
      "text/plain": [
       "        Model  Training Error  Testing Error\n",
       "0  Linear SVM           0.025          0.438\n",
       "1    Poly SVM           0.119          0.386\n",
       "2     RBF SVM           0.177          0.342\n",
       "3       VGG16           0.047          0.047"
      ]
     },
     "execution_count": 53,
     "metadata": {},
     "output_type": "execute_result"
    }
   ],
   "source": [
    "# print results from all 3 model variations\n",
    "results = ({'Model': ['Linear SVM', 'Poly SVM', 'RBF SVM', 'VGG16'],\n",
    "           'Training Error': [1-score_train_linear, 1-score_train_poly, \n",
    "                              1-score_train_rbf, 1-score_neural],\n",
    "            'Testing Error': [1-score_test_linear, 1-score_test_poly, \n",
    "                              1-score_test_rbf, 1-score_neural]\n",
    "           })\n",
    "\n",
    "results_df = pd.DataFrame(results)\n",
    "results_df"
   ]
  },
  {
   "cell_type": "markdown",
   "metadata": {},
   "source": [
    "Both Support Vector Machines (SVMs) and Neural Networks (NNs) can be used to classify data into different categories. In this case, those categories are shirts and jerseys. SVMs separate data into classes by finding the hyperplane that best separates the classes. NNs can classify more complex problems with activation functions through hidden layers. Both methods can be used with non-linear functions, but NNs optimize using the gradient descent algorithm, while SVMs do not. NNs also take much longer to train. \n",
    "\n",
    "As seen in the results above, Linear SVM overfit while training with an extremely low error rate, resulting in a higher testing error rate. Polynomial SVM and RBF SVM performed similarly, but the VGG16 NN model had the lowest error rate of all of them. Therefor, the VGG16 NN model is superior in this case."
   ]
  },
  {
   "cell_type": "code",
   "execution_count": null,
   "metadata": {},
   "outputs": [],
   "source": []
  }
 ],
 "metadata": {
  "kernelspec": {
   "display_name": "Python 3",
   "language": "python",
   "name": "python3"
  },
  "language_info": {
   "codemirror_mode": {
    "name": "ipython",
    "version": 3
   },
   "file_extension": ".py",
   "mimetype": "text/x-python",
   "name": "python",
   "nbconvert_exporter": "python",
   "pygments_lexer": "ipython3",
   "version": "3.7.6"
  }
 },
 "nbformat": 4,
 "nbformat_minor": 4
}
